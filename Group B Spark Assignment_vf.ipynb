{
 "cells": [
  {
   "cell_type": "markdown",
   "metadata": {},
   "source": [
    "# B Team - Group Assignment\n",
    "\n",
    "### These are the questions we expect you to deal with:\n",
    "•\tFind the oldest product   \n",
    "•\tFind the newest product   \n",
    "•\tAverage product age, where age means how long the product has been in the system.  \n",
    "•\tList of other countries where products are sold too.  \n",
    "•\tIdentify category of products and the compute:    \n",
    "          o\tNumber of products by category      \n",
    "          o\tList containing names of products by category      \n",
    "•\tIdentify traces and compute:  \n",
    "        o\tNumber of products by trace      \n",
    "        o\tList containing names of products by trace      \n",
    "•\tData quality analysis on fields of interest (see appendix 1):  \n",
    "        o\tNumber of products with complete info.     \n",
    "        o\t% of products without complete analysis per 100g  \n",
    "        o\t% of products without additives info  \n",
    "        o\t% of products without traces info  \n",
    "•\tData profiling on fields of interest (see appendix 1): \n",
    "        o\tStats on analysis per 100g fields  \n",
    "\n",
    "Additionally, your group has to **determine how healthy the different products are.** In order to come up with this conclusion, use an official health organism (ex. [NHS)](https://www.nhs.uk/live-well/eat-well/how-to-read-food-labels/?tabname=digestive-health)  \n",
    "As you can see, it’s a very open exercise and you’re more than encouraged to make your own decisions. Please, share decisions and considerations taking into account during the final presentation.  \n",
    "As usual, feel free to use the Discussion Board to ask questions and clarify doubts.  \n",
    "Raúl  \n",
    "Appendix 1.  \n",
    " \n",
    "For more information about fields available in the data set, have a look at fields’ [description.](https://static.openfoodfacts.org/data/data-fields.txt) \n",
    "The following fields are considered fields of interest:  \n",
    "•\tCreator  \n",
    "•\tCreated_datetime  \n",
    "•\tLast_modified_datetime  \n",
    "•\tProduct_name  \n",
    "•\tCountries_en   \n",
    "•\tTraces_en  \n",
    "•\tAdditives_tags  \n",
    "•\tMain_category_en  \n",
    "•\tImage_url  \n",
    "•\tQuantity  \n",
    "•\tPackaging_tags  \n",
    "•\tCategories_en  \n",
    "•\tIngredients_text  \n",
    "•\tAdditives_en  \n",
    "•\tEnergy-kcal_100g  \n",
    "•\tFat_100g  \n",
    "•\tSaturated-fat_100g  \n",
    "•\tSugars_100g  \n",
    "•\tSalt_100g/sodium_100g  \n",
    "If you think more fields should be considered fields of interest, feel free to add them to the list.   \n"
   ]
  },
  {
   "cell_type": "markdown",
   "metadata": {},
   "source": [
    "\n",
    "## 1. PySpark environment setup"
   ]
  },
  {
   "cell_type": "code",
   "execution_count": 1,
   "metadata": {},
   "outputs": [],
   "source": [
    "import findspark\n",
    "findspark.init()\n",
    "\n",
    "from pyspark.context import SparkContext\n",
    "from pyspark.sql.session import SparkSession\n",
    "\n",
    "sc = SparkContext.getOrCreate()\n",
    "spark = SparkSession(sc)"
   ]
  },
  {
   "cell_type": "code",
   "execution_count": 2,
   "metadata": {},
   "outputs": [],
   "source": [
    "from IPython.display import display, Markdown\n",
    "from pyspark.sql.functions import sum,avg,max,min,mean,count\n",
    "from pyspark.sql.types import *\n",
    "from pyspark.sql.functions import *\n",
    "#from pyspark.sql.functions import when, count, col, countDistinct, desc, first, lit\n",
    "from pyspark.ml.feature import Imputer"
   ]
  },
  {
   "cell_type": "markdown",
   "metadata": {},
   "source": [
    "## 2. Data source and Spark data abstraction (DataFrame) setup"
   ]
  },
  {
   "cell_type": "code",
   "execution_count": 3,
   "metadata": {},
   "outputs": [],
   "source": [
    "originalDF = spark.read \\\n",
    "                 .option(\"inferSchema\", \"true\") \\\n",
    "                 .option(\"multiLine\", \"true\")\\\n",
    "                 .option(\"escape\", \"\\\"\")\\\n",
    "                 .option(\"header\", \"true\") \\\n",
    "                 .csv(\"en.openfoodfacts.org.products.Belgium.csv.gz\")"
   ]
  },
  {
   "cell_type": "markdown",
   "metadata": {},
   "source": [
    "## 3. Data set metadata analysis\n",
    "### Display schema and size of the DataFrame"
   ]
  },
  {
   "cell_type": "code",
   "execution_count": 4,
   "metadata": {},
   "outputs": [
    {
     "name": "stdout",
     "output_type": "stream",
     "text": [
      "root\n",
      " |-- code: double (nullable = true)\n",
      " |-- url: string (nullable = true)\n",
      " |-- creator: string (nullable = true)\n",
      " |-- created_t: integer (nullable = true)\n",
      " |-- created_datetime: timestamp (nullable = true)\n",
      " |-- last_modified_t: integer (nullable = true)\n",
      " |-- last_modified_datetime: timestamp (nullable = true)\n",
      " |-- product_name: string (nullable = true)\n",
      " |-- generic_name: string (nullable = true)\n",
      " |-- quantity: string (nullable = true)\n",
      " |-- packaging: string (nullable = true)\n",
      " |-- packaging_tags: string (nullable = true)\n",
      " |-- brands: string (nullable = true)\n",
      " |-- brands_tags: string (nullable = true)\n",
      " |-- categories: string (nullable = true)\n",
      " |-- categories_tags: string (nullable = true)\n",
      " |-- categories_en: string (nullable = true)\n",
      " |-- origins: string (nullable = true)\n",
      " |-- origins_tags: string (nullable = true)\n",
      " |-- manufacturing_places: string (nullable = true)\n",
      " |-- manufacturing_places_tags: string (nullable = true)\n",
      " |-- labels: string (nullable = true)\n",
      " |-- labels_tags: string (nullable = true)\n",
      " |-- labels_en: string (nullable = true)\n",
      " |-- emb_codes: string (nullable = true)\n",
      " |-- emb_codes_tags: string (nullable = true)\n",
      " |-- first_packaging_code_geo: string (nullable = true)\n",
      " |-- cities: string (nullable = true)\n",
      " |-- cities_tags: string (nullable = true)\n",
      " |-- purchase_places: string (nullable = true)\n",
      " |-- stores: string (nullable = true)\n",
      " |-- countries: string (nullable = true)\n",
      " |-- countries_tags: string (nullable = true)\n",
      " |-- countries_en: string (nullable = true)\n",
      " |-- ingredients_text: string (nullable = true)\n",
      " |-- allergens: string (nullable = true)\n",
      " |-- allergens_en: string (nullable = true)\n",
      " |-- traces: string (nullable = true)\n",
      " |-- traces_tags: string (nullable = true)\n",
      " |-- traces_en: string (nullable = true)\n",
      " |-- serving_size: string (nullable = true)\n",
      " |-- serving_quantity: string (nullable = true)\n",
      " |-- no_nutriments: string (nullable = true)\n",
      " |-- additives_n: string (nullable = true)\n",
      " |-- additives: string (nullable = true)\n",
      " |-- additives_tags: string (nullable = true)\n",
      " |-- additives_en: string (nullable = true)\n",
      " |-- ingredients_from_palm_oil_n: string (nullable = true)\n",
      " |-- ingredients_from_palm_oil: string (nullable = true)\n",
      " |-- ingredients_from_palm_oil_tags: string (nullable = true)\n",
      " |-- ingredients_that_may_be_from_palm_oil_n: string (nullable = true)\n",
      " |-- ingredients_that_may_be_from_palm_oil: string (nullable = true)\n",
      " |-- ingredients_that_may_be_from_palm_oil_tags: string (nullable = true)\n",
      " |-- nutriscore_score: string (nullable = true)\n",
      " |-- nutriscore_grade: string (nullable = true)\n",
      " |-- nova_group: string (nullable = true)\n",
      " |-- pnns_groups_1: string (nullable = true)\n",
      " |-- pnns_groups_2: string (nullable = true)\n",
      " |-- states: string (nullable = true)\n",
      " |-- states_tags: string (nullable = true)\n",
      " |-- states_en: string (nullable = true)\n",
      " |-- brand_owner: string (nullable = true)\n",
      " |-- main_category: string (nullable = true)\n",
      " |-- main_category_en: string (nullable = true)\n",
      " |-- image_url: string (nullable = true)\n",
      " |-- image_small_url: string (nullable = true)\n",
      " |-- image_ingredients_url: string (nullable = true)\n",
      " |-- image_ingredients_small_url: string (nullable = true)\n",
      " |-- image_nutrition_url: string (nullable = true)\n",
      " |-- image_nutrition_small_url: string (nullable = true)\n",
      " |-- energy-kj_100g: double (nullable = true)\n",
      " |-- energy-kcal_100g: double (nullable = true)\n",
      " |-- energy_100g: double (nullable = true)\n",
      " |-- energy-from-fat_100g: double (nullable = true)\n",
      " |-- fat_100g: double (nullable = true)\n",
      " |-- saturated-fat_100g: double (nullable = true)\n",
      " |-- -butyric-acid_100g: string (nullable = true)\n",
      " |-- -caproic-acid_100g: integer (nullable = true)\n",
      " |-- -caprylic-acid_100g: string (nullable = true)\n",
      " |-- -capric-acid_100g: string (nullable = true)\n",
      " |-- -lauric-acid_100g: string (nullable = true)\n",
      " |-- -myristic-acid_100g: string (nullable = true)\n",
      " |-- -palmitic-acid_100g: string (nullable = true)\n",
      " |-- -stearic-acid_100g: string (nullable = true)\n",
      " |-- -arachidic-acid_100g: double (nullable = true)\n",
      " |-- -behenic-acid_100g: string (nullable = true)\n",
      " |-- -lignoceric-acid_100g: string (nullable = true)\n",
      " |-- -cerotic-acid_100g: string (nullable = true)\n",
      " |-- -montanic-acid_100g: string (nullable = true)\n",
      " |-- -melissic-acid_100g: string (nullable = true)\n",
      " |-- monounsaturated-fat_100g: string (nullable = true)\n",
      " |-- polyunsaturated-fat_100g: string (nullable = true)\n",
      " |-- omega-3-fat_100g: double (nullable = true)\n",
      " |-- -alpha-linolenic-acid_100g: double (nullable = true)\n",
      " |-- -eicosapentaenoic-acid_100g: double (nullable = true)\n",
      " |-- -docosahexaenoic-acid_100g: double (nullable = true)\n",
      " |-- omega-6-fat_100g: double (nullable = true)\n",
      " |-- -linoleic-acid_100g: double (nullable = true)\n",
      " |-- -arachidonic-acid_100g: string (nullable = true)\n",
      " |-- -gamma-linolenic-acid_100g: double (nullable = true)\n",
      " |-- -dihomo-gamma-linolenic-acid_100g: string (nullable = true)\n",
      " |-- omega-9-fat_100g: double (nullable = true)\n",
      " |-- -oleic-acid_100g: string (nullable = true)\n",
      " |-- -elaidic-acid_100g: string (nullable = true)\n",
      " |-- -gondoic-acid_100g: string (nullable = true)\n",
      " |-- -mead-acid_100g: string (nullable = true)\n",
      " |-- -erucic-acid_100g: string (nullable = true)\n",
      " |-- -nervonic-acid_100g: string (nullable = true)\n",
      " |-- trans-fat_100g: double (nullable = true)\n",
      " |-- cholesterol_100g: double (nullable = true)\n",
      " |-- carbohydrates_100g: double (nullable = true)\n",
      " |-- sugars_100g: double (nullable = true)\n",
      " |-- -sucrose_100g: double (nullable = true)\n",
      " |-- -glucose_100g: double (nullable = true)\n",
      " |-- -fructose_100g: double (nullable = true)\n",
      " |-- -lactose_100g: double (nullable = true)\n",
      " |-- -maltose_100g: double (nullable = true)\n",
      " |-- -maltodextrins_100g: string (nullable = true)\n",
      " |-- starch_100g: double (nullable = true)\n",
      " |-- polyols_100g: double (nullable = true)\n",
      " |-- fiber_100g: double (nullable = true)\n",
      " |-- -soluble-fiber_100g: double (nullable = true)\n",
      " |-- -insoluble-fiber_100g: double (nullable = true)\n",
      " |-- proteins_100g: double (nullable = true)\n",
      " |-- casein_100g: string (nullable = true)\n",
      " |-- serum-proteins_100g: double (nullable = true)\n",
      " |-- nucleotides_100g: string (nullable = true)\n",
      " |-- salt_100g: double (nullable = true)\n",
      " |-- sodium_100g: double (nullable = true)\n",
      " |-- alcohol_100g: double (nullable = true)\n",
      " |-- vitamin-a_100g: double (nullable = true)\n",
      " |-- beta-carotene_100g: double (nullable = true)\n",
      " |-- vitamin-d_100g: double (nullable = true)\n",
      " |-- vitamin-e_100g: double (nullable = true)\n",
      " |-- vitamin-k_100g: double (nullable = true)\n",
      " |-- vitamin-c_100g: double (nullable = true)\n",
      " |-- vitamin-b1_100g: double (nullable = true)\n",
      " |-- vitamin-b2_100g: double (nullable = true)\n",
      " |-- vitamin-pp_100g: double (nullable = true)\n",
      " |-- vitamin-b6_100g: double (nullable = true)\n",
      " |-- vitamin-b9_100g: double (nullable = true)\n",
      " |-- folates_100g: double (nullable = true)\n",
      " |-- vitamin-b12_100g: double (nullable = true)\n",
      " |-- biotin_100g: double (nullable = true)\n",
      " |-- pantothenic-acid_100g: double (nullable = true)\n",
      " |-- silica_100g: double (nullable = true)\n",
      " |-- bicarbonate_100g: double (nullable = true)\n",
      " |-- potassium_100g: double (nullable = true)\n",
      " |-- chloride_100g: double (nullable = true)\n",
      " |-- calcium_100g: double (nullable = true)\n",
      " |-- phosphorus_100g: double (nullable = true)\n",
      " |-- iron_100g: double (nullable = true)\n",
      " |-- magnesium_100g: double (nullable = true)\n",
      " |-- zinc_100g: double (nullable = true)\n",
      " |-- copper_100g: double (nullable = true)\n",
      " |-- manganese_100g: double (nullable = true)\n",
      " |-- fluoride_100g: double (nullable = true)\n",
      " |-- selenium_100g: double (nullable = true)\n",
      " |-- chromium_100g: double (nullable = true)\n",
      " |-- molybdenum_100g: double (nullable = true)\n",
      " |-- iodine_100g: double (nullable = true)\n",
      " |-- caffeine_100g: double (nullable = true)\n",
      " |-- taurine_100g: double (nullable = true)\n",
      " |-- ph_100g: double (nullable = true)\n",
      " |-- fruits-vegetables-nuts_100g: double (nullable = true)\n",
      " |-- fruits-vegetables-nuts-dried_100g: double (nullable = true)\n",
      " |-- fruits-vegetables-nuts-estimate_100g: double (nullable = true)\n",
      " |-- collagen-meat-protein-ratio_100g: string (nullable = true)\n",
      " |-- cocoa_100g: double (nullable = true)\n",
      " |-- chlorophyl_100g: string (nullable = true)\n",
      " |-- carbon-footprint_100g: double (nullable = true)\n",
      " |-- carbon-footprint-from-meat-or-fish_100g: double (nullable = true)\n",
      " |-- nutrition-score-fr_100g: integer (nullable = true)\n",
      " |-- nutrition-score-uk_100g: integer (nullable = true)\n",
      " |-- glycemic-index_100g: string (nullable = true)\n",
      " |-- water-hardness_100g: string (nullable = true)\n",
      " |-- choline_100g: string (nullable = true)\n",
      " |-- phylloquinone_100g: double (nullable = true)\n",
      " |-- beta-glucan_100g: double (nullable = true)\n",
      " |-- inositol_100g: string (nullable = true)\n",
      " |-- carnitine_100g: string (nullable = true)\n",
      "\n"
     ]
    }
   ],
   "source": [
    "originalDF.printSchema()"
   ]
  },
  {
   "cell_type": "code",
   "execution_count": 5,
   "metadata": {},
   "outputs": [
    {
     "data": {
      "text/markdown": [
       "This DataFrame has **51797 rows** and ***181 columns***."
      ],
      "text/plain": [
       "<IPython.core.display.Markdown object>"
      ]
     },
     "metadata": {},
     "output_type": "display_data"
    }
   ],
   "source": [
    "display(Markdown(\"This DataFrame has **%d rows** and ***%d columns***.\" % (originalDF.count(), len(originalDF.columns))))"
   ]
  },
  {
   "cell_type": "code",
   "execution_count": 6,
   "metadata": {},
   "outputs": [
    {
     "data": {
      "text/plain": [
       "[Row(code=625.0, url='http://world-en.openfoodfacts.org/product/00000625/chips-de-banane', creator='kiliweb', created_t=1571139104, created_datetime=datetime.datetime(2019, 10, 15, 13, 31, 44), last_modified_t=1571139105, last_modified_datetime=datetime.datetime(2019, 10, 15, 13, 31, 45), product_name='Chips de banane', generic_name=None, quantity=None, packaging=None, packaging_tags=None, brands=None, brands_tags=None, categories=None, categories_tags=None, categories_en=None, origins=None, origins_tags=None, manufacturing_places=None, manufacturing_places_tags=None, labels=None, labels_tags=None, labels_en=None, emb_codes=None, emb_codes_tags=None, first_packaging_code_geo=None, cities=None, cities_tags=None, purchase_places=None, stores=None, countries='en:be', countries_tags='en:belgium', countries_en='Belgium', ingredients_text=None, allergens=None, allergens_en=None, traces=None, traces_tags=None, traces_en=None, serving_size=None, serving_quantity=None, no_nutriments=None, additives_n=None, additives=None, additives_tags=None, additives_en=None, ingredients_from_palm_oil_n=None, ingredients_from_palm_oil=None, ingredients_from_palm_oil_tags=None, ingredients_that_may_be_from_palm_oil_n=None, ingredients_that_may_be_from_palm_oil=None, ingredients_that_may_be_from_palm_oil_tags=None, nutriscore_score=None, nutriscore_grade=None, nova_group=None, pnns_groups_1='unknown', pnns_groups_2='unknown', states='en:to-be-completed, en:nutrition-facts-to-be-completed, en:ingredients-to-be-completed, en:expiration-date-to-be-completed, en:packaging-code-to-be-completed, en:characteristics-to-be-completed, en:categories-to-be-completed, en:brands-to-be-completed, en:packaging-to-be-completed, en:quantity-to-be-completed, en:product-name-completed, en:photos-to-be-validated, en:photos-uploaded', states_tags='en:to-be-completed,en:nutrition-facts-to-be-completed,en:ingredients-to-be-completed,en:expiration-date-to-be-completed,en:packaging-code-to-be-completed,en:characteristics-to-be-completed,en:categories-to-be-completed,en:brands-to-be-completed,en:packaging-to-be-completed,en:quantity-to-be-completed,en:product-name-completed,en:photos-to-be-validated,en:photos-uploaded', states_en='To be completed,Nutrition facts to be completed,Ingredients to be completed,Expiration date to be completed,Packaging code to be completed,Characteristics to be completed,Categories to be completed,Brands to be completed,Packaging to be completed,Quantity to be completed,Product name completed,Photos to be validated,Photos uploaded', brand_owner=None, main_category=None, main_category_en=None, image_url='https://static.openfoodfacts.org/images/products/00000625/front_fr.3.400.jpg', image_small_url='https://static.openfoodfacts.org/images/products/00000625/front_fr.3.200.jpg', image_ingredients_url=None, image_ingredients_small_url=None, image_nutrition_url=None, image_nutrition_small_url=None, energy-kj_100g=None, energy-kcal_100g=None, energy_100g=None, energy-from-fat_100g=None, fat_100g=None, saturated-fat_100g=None, -butyric-acid_100g=None, -caproic-acid_100g=None, -caprylic-acid_100g=None, -capric-acid_100g=None, -lauric-acid_100g=None, -myristic-acid_100g=None, -palmitic-acid_100g=None, -stearic-acid_100g=None, -arachidic-acid_100g=None, -behenic-acid_100g=None, -lignoceric-acid_100g=None, -cerotic-acid_100g=None, -montanic-acid_100g=None, -melissic-acid_100g=None, monounsaturated-fat_100g=None, polyunsaturated-fat_100g=None, omega-3-fat_100g=None, -alpha-linolenic-acid_100g=None, -eicosapentaenoic-acid_100g=None, -docosahexaenoic-acid_100g=None, omega-6-fat_100g=None, -linoleic-acid_100g=None, -arachidonic-acid_100g=None, -gamma-linolenic-acid_100g=None, -dihomo-gamma-linolenic-acid_100g=None, omega-9-fat_100g=None, -oleic-acid_100g=None, -elaidic-acid_100g=None, -gondoic-acid_100g=None, -mead-acid_100g=None, -erucic-acid_100g=None, -nervonic-acid_100g=None, trans-fat_100g=None, cholesterol_100g=None, carbohydrates_100g=None, sugars_100g=None, -sucrose_100g=None, -glucose_100g=None, -fructose_100g=None, -lactose_100g=None, -maltose_100g=None, -maltodextrins_100g=None, starch_100g=None, polyols_100g=None, fiber_100g=None, -soluble-fiber_100g=None, -insoluble-fiber_100g=None, proteins_100g=None, casein_100g=None, serum-proteins_100g=None, nucleotides_100g=None, salt_100g=None, sodium_100g=None, alcohol_100g=None, vitamin-a_100g=None, beta-carotene_100g=None, vitamin-d_100g=None, vitamin-e_100g=None, vitamin-k_100g=None, vitamin-c_100g=None, vitamin-b1_100g=None, vitamin-b2_100g=None, vitamin-pp_100g=None, vitamin-b6_100g=None, vitamin-b9_100g=None, folates_100g=None, vitamin-b12_100g=None, biotin_100g=None, pantothenic-acid_100g=None, silica_100g=None, bicarbonate_100g=None, potassium_100g=None, chloride_100g=None, calcium_100g=None, phosphorus_100g=None, iron_100g=None, magnesium_100g=None, zinc_100g=None, copper_100g=None, manganese_100g=None, fluoride_100g=None, selenium_100g=None, chromium_100g=None, molybdenum_100g=None, iodine_100g=None, caffeine_100g=None, taurine_100g=None, ph_100g=None, fruits-vegetables-nuts_100g=None, fruits-vegetables-nuts-dried_100g=None, fruits-vegetables-nuts-estimate_100g=None, collagen-meat-protein-ratio_100g=None, cocoa_100g=None, chlorophyl_100g=None, carbon-footprint_100g=None, carbon-footprint-from-meat-or-fish_100g=None, nutrition-score-fr_100g=None, nutrition-score-uk_100g=None, glycemic-index_100g=None, water-hardness_100g=None, choline_100g=None, phylloquinone_100g=None, beta-glucan_100g=None, inositol_100g=None, carnitine_100g=None)]"
      ]
     },
     "execution_count": 6,
     "metadata": {},
     "output_type": "execute_result"
    }
   ],
   "source": [
    "originalDF.cache() # optimization to make the processing faster\n",
    "originalDF.sample(False, 0.1).take(1)"
   ]
  },
  {
   "cell_type": "code",
   "execution_count": 7,
   "metadata": {},
   "outputs": [],
   "source": [
    "#Lets see if any columns can be used as index keys"
   ]
  },
  {
   "cell_type": "code",
   "execution_count": 8,
   "metadata": {},
   "outputs": [],
   "source": [
    "pot_IK=originalDF\\\n",
    "    .select('code', 'product_name', 'created_t' )"
   ]
  },
  {
   "cell_type": "code",
   "execution_count": 9,
   "metadata": {
    "scrolled": true
   },
   "outputs": [
    {
     "name": "stdout",
     "output_type": "stream",
     "text": [
      "Checking amount of distinct values in nutriscore_score fields:\n",
      "+-----+------------+---------+\n",
      "| code|product_name|created_t|\n",
      "+-----+------------+---------+\n",
      "|51773|       39394|    51745|\n",
      "+-----+------------+---------+\n",
      "\n"
     ]
    }
   ],
   "source": [
    "print(\"Checking amount of distinct values in nutriscore_score fields:\")\n",
    "pot_IK.select([countDistinct(c).alias(c) for c in pot_IK.columns]).show()"
   ]
  },
  {
   "cell_type": "markdown",
   "metadata": {},
   "source": [
    "We will use \"code' as an index in case we need o to split the DF or do any joins"
   ]
  },
  {
   "cell_type": "markdown",
   "metadata": {},
   "source": [
    "### Actual df with important columns"
   ]
  },
  {
   "cell_type": "code",
   "execution_count": 10,
   "metadata": {},
   "outputs": [],
   "source": [
    "productsDF = originalDF\\\n",
    "    .select('code','Creator', 'Created_datetime', 'Last_modified_datetime', 'Product_name', 'Countries_en',\\\n",
    "            'Traces_en', 'Additives_tags', 'Main_category_en', 'Image_url', 'Quantity', 'Packaging_tags',\\\n",
    "            \"countries\",'Categories_en', 'Ingredients_text', 'Additives_en', 'Energy-kcal_100g', 'Fat_100g',\\\n",
    "            'Saturated-fat_100g', 'Sugars_100g', 'Salt_100g', 'sodium_100g')"
   ]
  },
  {
   "cell_type": "code",
   "execution_count": 11,
   "metadata": {
    "scrolled": true
   },
   "outputs": [
    {
     "name": "stdout",
     "output_type": "stream",
     "text": [
      "root\n",
      " |-- code: double (nullable = true)\n",
      " |-- Creator: string (nullable = true)\n",
      " |-- Created_datetime: timestamp (nullable = true)\n",
      " |-- Last_modified_datetime: timestamp (nullable = true)\n",
      " |-- Product_name: string (nullable = true)\n",
      " |-- Countries_en: string (nullable = true)\n",
      " |-- Traces_en: string (nullable = true)\n",
      " |-- Additives_tags: string (nullable = true)\n",
      " |-- Main_category_en: string (nullable = true)\n",
      " |-- Image_url: string (nullable = true)\n",
      " |-- Quantity: string (nullable = true)\n",
      " |-- Packaging_tags: string (nullable = true)\n",
      " |-- countries: string (nullable = true)\n",
      " |-- Categories_en: string (nullable = true)\n",
      " |-- Ingredients_text: string (nullable = true)\n",
      " |-- Additives_en: string (nullable = true)\n",
      " |-- Energy-kcal_100g: double (nullable = true)\n",
      " |-- Fat_100g: double (nullable = true)\n",
      " |-- Saturated-fat_100g: double (nullable = true)\n",
      " |-- Sugars_100g: double (nullable = true)\n",
      " |-- Salt_100g: double (nullable = true)\n",
      " |-- sodium_100g: double (nullable = true)\n",
      "\n"
     ]
    }
   ],
   "source": [
    "productsDF.printSchema()\n"
   ]
  },
  {
   "cell_type": "markdown",
   "metadata": {},
   "source": [
    "## 4. Data quality analysis and data profiling on fields of interest\n",
    "\n",
    "### Number of products with complete info"
   ]
  },
  {
   "cell_type": "code",
   "execution_count": 12,
   "metadata": {},
   "outputs": [
    {
     "data": {
      "text/markdown": [
       "Products DataFrame has **1333 products** with complete information."
      ],
      "text/plain": [
       "<IPython.core.display.Markdown object>"
      ]
     },
     "metadata": {},
     "output_type": "display_data"
    }
   ],
   "source": [
    "display(Markdown(\"Products DataFrame has **%d products** with complete information.\" % productsDF.na.drop().count()))"
   ]
  },
  {
   "cell_type": "markdown",
   "metadata": {},
   "source": [
    "### % of products without complete analysis per 100g"
   ]
  },
  {
   "cell_type": "code",
   "execution_count": 13,
   "metadata": {},
   "outputs": [
    {
     "data": {
      "text/markdown": [
       "Products without complete analysis per 100g: **26.17 %**."
      ],
      "text/plain": [
       "<IPython.core.display.Markdown object>"
      ]
     },
     "metadata": {},
     "output_type": "display_data"
    }
   ],
   "source": [
    "analysis100gDF = productsDF.select(originalDF.colRegex(\"`.+_100g$`\"))\n",
    "display(Markdown(\"Products without complete analysis per 100g: **%.2f %%**.\" % (100 * (1 - (analysis100gDF.na.drop().count() / productsDF.count())))))"
   ]
  },
  {
   "cell_type": "markdown",
   "metadata": {},
   "source": [
    "### % of products without additives info"
   ]
  },
  {
   "cell_type": "code",
   "execution_count": 14,
   "metadata": {},
   "outputs": [
    {
     "data": {
      "text/markdown": [
       "Products without additives info: **87.52 %**."
      ],
      "text/plain": [
       "<IPython.core.display.Markdown object>"
      ]
     },
     "metadata": {},
     "output_type": "display_data"
    }
   ],
   "source": [
    "additivesDF = productsDF.select(originalDF.colRegex(\"`additives.+`\"))\n",
    "display(Markdown(\"Products without additives info: **%.2f %%**.\" % (100 * (1 - (additivesDF.na.drop().count() / productsDF.count())))))"
   ]
  },
  {
   "cell_type": "markdown",
   "metadata": {},
   "source": [
    "### % of products without traces info"
   ]
  },
  {
   "cell_type": "code",
   "execution_count": 15,
   "metadata": {},
   "outputs": [
    {
     "data": {
      "text/markdown": [
       "Products without traces info: **92.47 %**."
      ],
      "text/plain": [
       "<IPython.core.display.Markdown object>"
      ]
     },
     "metadata": {},
     "output_type": "display_data"
    }
   ],
   "source": [
    "tracesDF = productsDF.select(originalDF.colRegex(\"`traces.+`\"))\n",
    "display(Markdown(\"Products without traces info: **%.2f %%**.\" % (100 * (1 - (tracesDF.na.drop().count() / productsDF.count())))))"
   ]
  },
  {
   "cell_type": "markdown",
   "metadata": {},
   "source": [
    "### Stats on analysis per 100g fields"
   ]
  },
  {
   "cell_type": "code",
   "execution_count": 16,
   "metadata": {},
   "outputs": [
    {
     "name": "stdout",
     "output_type": "stream",
     "text": [
      "Summary of ´per 100g fields´:\n",
      "+-------+-----------------+------------------+------------------+------------------+-----------------+------------------+\n",
      "|summary| Energy-kcal_100g|          Fat_100g|Saturated-fat_100g|       Sugars_100g|        Salt_100g|       sodium_100g|\n",
      "+-------+-----------------+------------------+------------------+------------------+-----------------+------------------+\n",
      "|  count|            39842|             40866|             41088|             40940|            40648|             40648|\n",
      "|   mean|302.7755980208913|14.048285559262917| 4.982827799539132|12.491814439693892|1.115387922925355|0.4461550914099248|\n",
      "| stddev|6681.553529305641| 18.33876447086986|10.517148813034654|18.925982945612105| 3.77764405770672|1.5110575956759489|\n",
      "|    min|              0.0|               0.0|               0.0|               0.0|              0.0|               0.0|\n",
      "|    25%|             96.0|               0.7|  0.10000000149012|  0.80000001192093|             0.03|             0.012|\n",
      "|    50%|            251.0|              6.73|               1.7|               3.5|             0.46|             0.184|\n",
      "|    75%|            395.0|              22.0|               6.6|   14.119999885559|              1.3|              0.52|\n",
      "|    max|        1333333.0|             225.0|            1400.0|             119.0|            180.0|              72.0|\n",
      "+-------+-----------------+------------------+------------------+------------------+-----------------+------------------+\n",
      "\n",
      "Checking for nulls on ´per 100g fields´:\n",
      "+----------------+--------+------------------+-----------+---------+-----------+\n",
      "|Energy-kcal_100g|Fat_100g|Saturated-fat_100g|Sugars_100g|Salt_100g|sodium_100g|\n",
      "+----------------+--------+------------------+-----------+---------+-----------+\n",
      "|           11955|   10931|             10709|      10857|    11149|      11149|\n",
      "+----------------+--------+------------------+-----------+---------+-----------+\n",
      "\n",
      "Checking amount of distinct values in ´per 100g fields´:\n",
      "+----------------+--------+------------------+-----------+---------+-----------+\n",
      "|Energy-kcal_100g|Fat_100g|Saturated-fat_100g|Sugars_100g|Salt_100g|sodium_100g|\n",
      "+----------------+--------+------------------+-----------+---------+-----------+\n",
      "|            1218|    1673|              1247|       1752|     1496|       1474|\n",
      "+----------------+--------+------------------+-----------+---------+-----------+\n",
      "\n"
     ]
    }
   ],
   "source": [
    "print (\"Summary of ´per 100g fields´:\")\n",
    "analysis100gDF.summary().show()\n",
    "\n",
    "print(\"Checking for nulls on ´per 100g fields´:\")\n",
    "analysis100gDF.select([count(when(col(c).isNull(), c)).alias(c) for c in analysis100gDF.columns]).show()\n",
    "\n",
    "print(\"Checking amount of distinct values in ´per 100g fields´:\")\n",
    "analysis100gDF.select([countDistinct(c).alias(c) for c in analysis100gDF.columns]).show()"
   ]
  },
  {
   "cell_type": "markdown",
   "metadata": {},
   "source": [
    "## 5.Business questions \n",
    "\n",
    "###  Newest and Oldest product"
   ]
  },
  {
   "cell_type": "code",
   "execution_count": 17,
   "metadata": {},
   "outputs": [
    {
     "data": {
      "text/markdown": [
       "\n",
       "| Oldest Product | Newest Product |\n",
       "|----|----|\n",
       "| Lulu La Barquette Fraise (2012-02-11 16:07:23) | Andalouse (2020-09-13 03:23:53) | \n"
      ],
      "text/plain": [
       "<IPython.core.display.Markdown object>"
      ]
     },
     "metadata": {},
     "output_type": "display_data"
    }
   ],
   "source": [
    "#define reference to oldest and newest product\n",
    "oldprod = productsDF.orderBy(col(\"Created_datetime\").asc()).first()\n",
    "newprod = productsDF.orderBy(col(\"Created_datetime\").desc()).first()\n",
    "\n",
    "display(Markdown(\"\"\"\n",
    "| %s | %s |\n",
    "|----|----|\n",
    "| %s | %s | \n",
    "\"\"\" % (\"Oldest Product\", \"Newest Product\", \\\n",
    "       \"%s (%s)\" % (oldprod[\"Product_name\"], oldprod[\"Created_datetime\"]),\\\n",
    "       \"%s (%s)\" % (newprod[\"Product_name\"], newprod[\"Created_datetime\"]))))"
   ]
  },
  {
   "cell_type": "markdown",
   "metadata": {},
   "source": [
    "### Average product age"
   ]
  },
  {
   "cell_type": "code",
   "execution_count": 18,
   "metadata": {},
   "outputs": [],
   "source": [
    "import datetime\n",
    "#define current datetime\n",
    "now = datetime.datetime.now()\n",
    "#Getting Current date and time\n",
    "current_datetime = datetime.datetime.now().strftime(\"%Y-%m-%d %H:%M:%S\")\n",
    "productsDF = productsDF.withColumn(\"current_time\", lit(current_datetime))"
   ]
  },
  {
   "cell_type": "code",
   "execution_count": 19,
   "metadata": {},
   "outputs": [],
   "source": [
    "productsDF = productsDF\\\n",
    ".withColumn('time_diff_hours',(unix_timestamp('current_time') - unix_timestamp('Created_datetime'))/3600)\\\n",
    "    .withColumn(\"time_diff_days\", datediff(col(\"current_time\"),col(\"Created_datetime\")))\\\n",
    "    .withColumn(\"time_diff_months\", months_between(col(\"current_time\"),col(\"Created_datetime\")))\\\n",
    "    .withColumn(\"time_diff_years\", year(col(\"current_time\")) - year(col(\"Created_datetime\")))"
   ]
  },
  {
   "cell_type": "code",
   "execution_count": 20,
   "metadata": {},
   "outputs": [
    {
     "data": {
      "text/markdown": [
       "**The average product age**"
      ],
      "text/plain": [
       "<IPython.core.display.Markdown object>"
      ]
     },
     "metadata": {},
     "output_type": "display_data"
    },
    {
     "name": "stdout",
     "output_type": "stream",
     "text": [
      "+-----------------------+-------------------------+------------------------+\n",
      "|avg_product_age_in_days|avg_product_age_in_months|avg_product_age_in_years|\n",
      "+-----------------------+-------------------------+------------------------+\n",
      "|      678.3958144294071|       22.266827689725304|      1.4964573237832306|\n",
      "+-----------------------+-------------------------+------------------------+\n",
      "\n"
     ]
    }
   ],
   "source": [
    "display(Markdown(\"**The average product age**\"))\n",
    "productsDF.agg(avg(\"time_diff_days\").alias(\"avg_product_age_in_days\"),\\\n",
    "avg(\"time_diff_months\").alias(\"avg_product_age_in_months\"),\\\n",
    "avg(\"time_diff_years\").alias(\"avg_product_age_in_years\"))\\\n",
    ".show()"
   ]
  },
  {
   "cell_type": "code",
   "execution_count": 70,
   "metadata": {},
   "outputs": [
    {
     "data": {
      "text/markdown": [
       "The average product age is **678 days, 22.26 months or 1.5 years** which is true for the following products:"
      ],
      "text/plain": [
       "<IPython.core.display.Markdown object>"
      ]
     },
     "metadata": {},
     "output_type": "display_data"
    },
    {
     "name": "stdout",
     "output_type": "stream",
     "text": [
      "+--------------------+-------------------+\n",
      "|        Product_name|   Created_datetime|\n",
      "+--------------------+-------------------+\n",
      "|                null|2018-12-16 22:59:09|\n",
      "|                null|2018-12-16 22:56:53|\n",
      "|  Lait de croissance|2018-12-16 22:52:03|\n",
      "|   Gâteaux aux oeufs|2018-12-16 23:06:23|\n",
      "|Filet de saumon A...|2018-12-16 22:58:43|\n",
      "|            Gianduja|2018-12-16 23:03:03|\n",
      "|Pommes de terres ...|2018-12-16 22:59:14|\n",
      "|         Nono orange|2018-12-16 22:57:49|\n",
      "|Scampi's décortiqués|2018-12-16 22:59:15|\n",
      "|     mix pâtisseries|2018-12-16 23:05:44|\n",
      "|                null|2018-12-16 22:58:33|\n",
      "|Chocolat fourré a...|2018-12-16 23:08:11|\n",
      "|    Truffes de cacao|2018-12-16 23:08:19|\n",
      "|Couscous aux legu...|2018-12-16 22:54:33|\n",
      "|      Les Grenailles|2018-12-16 22:59:23|\n",
      "| Legumes pour potage|2018-12-16 22:55:15|\n",
      "|   Wok légumes épicé|2018-12-16 22:54:31|\n",
      "|(H)eat me - Spagh...|2018-12-16 22:54:40|\n",
      "|       Soupe fraiche|2018-12-16 22:59:28|\n",
      "|Mountain klontjes...|2018-12-16 22:52:10|\n",
      "|Foe yong hai au B...|2018-12-16 22:55:39|\n",
      "|    Crevettes grises|2018-12-16 22:59:18|\n",
      "|          Pinot noir|2018-12-16 23:52:36|\n",
      "|             Pick up|2018-12-16 13:42:56|\n",
      "|       Schokowaffeln|2018-12-16 12:47:45|\n",
      "|            Cherrina|2018-12-16 17:20:19|\n",
      "|Croquettes aux cr...|2018-12-16 13:39:22|\n",
      "|                Fuet|2018-12-16 15:49:20|\n",
      "|    Sauce provençale|2018-12-16 09:16:53|\n",
      "|         Gommes cola|2018-12-16 21:59:59|\n",
      "|       Quinoa nature|2018-12-16 10:09:18|\n",
      "|     Haricots rouges|2018-12-16 21:57:01|\n",
      "|                null|2018-12-16 22:05:16|\n",
      "|                null|2018-12-16 22:05:30|\n",
      "|                null|2018-12-16 22:05:25|\n",
      "|                null|2018-12-16 22:05:28|\n",
      "|        Hure de porc|2018-12-16 22:04:48|\n",
      "|             Oméga-3|2018-12-16 22:00:30|\n",
      "|     Jus Multifruits|2018-12-16 21:58:00|\n",
      "|   Noix de macadamia|2018-12-16 21:54:49|\n",
      "|       Boni tropical|2018-12-16 21:58:09|\n",
      "|Boisson lactée à ...|2018-12-16 22:02:02|\n",
      "|Boni sport red peach|2018-12-16 22:01:22|\n",
      "|                null|2018-12-16 21:57:27|\n",
      "|Galettes sans suc...|2018-12-16 21:59:07|\n",
      "|           Capellini|2018-12-16 21:44:46|\n",
      "|                null|2018-12-16 22:04:06|\n",
      "|Salade de poulet ...|2018-12-16 22:05:22|\n",
      "|                null|2018-12-16 22:05:32|\n",
      "|      Fruit cocktail|2018-12-16 22:08:22|\n",
      "| Coeurs d'artichauts|2018-12-16 22:35:46|\n",
      "|Petits pains mult...|2018-12-16 21:49:39|\n",
      "|           Magnesium|2018-12-16 22:00:17|\n",
      "|           Magnésium|2018-12-16 22:00:10|\n",
      "|     Asperges vertes|2018-12-16 22:35:30|\n",
      "|chocolat au lait ...|2018-12-16 21:59:44|\n",
      "|      Figues séchées|2018-12-16 21:57:40|\n",
      "|Demi-baguettes co...|2018-12-16 21:48:28|\n",
      "|Champignons de Paris|2018-12-16 22:36:12|\n",
      "|  Baguette au levain|2018-12-16 21:49:18|\n",
      "|    Graines de Pavot|2018-12-16 21:56:24|\n",
      "|      Pignons de pin|2018-12-16 21:54:14|\n",
      "|           pain turc|2018-12-16 21:51:50|\n",
      "|Petits pains mult...|2018-12-16 21:51:18|\n",
      "|              Orange|2018-12-16 21:58:36|\n",
      "|Mélange de noix p...|2018-12-16 21:54:17|\n",
      "|           Porchetta|2018-12-16 22:03:50|\n",
      "|Cervelas de volaille|2018-12-16 22:05:39|\n",
      "|Boulettes de vola...|2018-12-16 22:05:35|\n",
      "|Petits pois extra...|2018-12-16 10:08:34|\n",
      "| Cacciatore italiano|2018-12-16 22:06:43|\n",
      "|                null|2018-12-16 22:06:14|\n",
      "|     Collier gaumais|2018-12-16 22:06:35|\n",
      "|                null|2018-12-16 22:00:38|\n",
      "|Multivitamine (12...|2018-12-16 22:00:26|\n",
      "|   Compote de pommes|2018-12-16 22:07:57|\n",
      "|   Pâté cuit au four|2018-12-16 22:04:53|\n",
      "|                null|2018-12-16 22:04:01|\n",
      "|      Pâté de canard|2018-12-16 22:04:25|\n",
      "|       Jambon Grillé|2018-12-16 22:03:46|\n",
      "|        Tête pressée|2018-12-16 22:05:10|\n",
      "| Saucisson de jambon|2018-12-16 22:04:14|\n",
      "|Filet de poulet a...|2018-12-16 22:04:43|\n",
      "|Filet de poulet a...|2018-12-16 22:03:56|\n",
      "|Tête de veau en t...|2018-12-16 22:05:06|\n",
      "| Cacahuètes grillées|2018-12-16 21:53:21|\n",
      "|                null|2018-12-16 21:41:59|\n",
      "|                null|2018-12-16 22:07:26|\n",
      "|           Noisettes|2018-12-16 21:53:43|\n",
      "|Salade de carotte...|2018-12-16 22:08:43|\n",
      "|  Airelles cuisinées|2018-12-16 13:54:25|\n",
      "|  Guimauve St-Nicola|2018-12-16 20:15:33|\n",
      "|                null|2018-12-16 22:00:39|\n",
      "|Altesse Confit d'...|2018-12-16 21:02:26|\n",
      "|                null|2018-12-16 22:05:33|\n",
      "| Schweppes pineapple|2018-12-16 19:33:07|\n",
      "|                null|2018-12-16 18:03:27|\n",
      "|Original Philadel...|2018-12-16 00:40:24|\n",
      "|                null|2018-12-16 16:57:44|\n",
      "|     Familia Oliveda|2018-12-16 20:16:14|\n",
      "|Kichererbsen in T...|2018-12-16 16:39:15|\n",
      "|Fromage de chèvre...|2018-12-16 10:43:08|\n",
      "+--------------------+-------------------+\n",
      "\n"
     ]
    }
   ],
   "source": [
    "display(Markdown(\"The average product age is **678 days, 22.26 months or 1.5 years** which is true for the following products:\"))\n",
    "productsDF.where(col(\"time_diff_days\")== 678) \\\n",
    "                 .select('Product_name','Created_datetime')\\\n",
    ".show(200)"
   ]
  },
  {
   "cell_type": "markdown",
   "metadata": {},
   "source": [
    "### List of other countries where products are sold to"
   ]
  },
  {
   "cell_type": "code",
   "execution_count": 22,
   "metadata": {},
   "outputs": [
    {
     "name": "stdout",
     "output_type": "stream",
     "text": [
      "+-------+-------+-----+\n",
      "|Product|Country|count|\n",
      "+-------+-------+-----+\n",
      "|   Café| France|    4|\n",
      "|   Café|  Spain|    1|\n",
      "+-------+-------+-----+\n",
      "\n"
     ]
    }
   ],
   "source": [
    "#create df where countries are split off\n",
    "df = productsDF\\\n",
    ".withColumn(\"country_list\",split(col(\"Countries_en\"),\",\"))\\\n",
    ".select(col(\"Product_name\"), explode(col(\"country_list\")).alias(\"Country\"))\\\n",
    ".withColumn(\"Product_list\",split(col(\"Product_name\"),\",\"))\\\n",
    ".select(col(\"Country\"), explode(col(\"Product_list\")).alias(\"Product\"))\n",
    "\n",
    "#create count and filter out Country Belgium, Product Name can be changed as needed\n",
    "countDF = df.groupBy(\"Product\",\"Country\").count()\\\n",
    ".filter(col(\"Country\") !=\"Belgium\")\\\n",
    ".filter(col('Product') == 'Café').show()"
   ]
  },
  {
   "cell_type": "markdown",
   "metadata": {},
   "source": [
    "### •\tIdentify category of products and compute:    \n",
    "  ####        o\tNumber of products by category      "
   ]
  },
  {
   "cell_type": "code",
   "execution_count": 23,
   "metadata": {},
   "outputs": [
    {
     "name": "stdout",
     "output_type": "stream",
     "text": [
      "+--------------------+------------------------------+\n",
      "|       Categories_en|Number of products by category|\n",
      "+--------------------+------------------------------+\n",
      "|                null|                         34401|\n",
      "|Snacks,Sweet snac...|                           152|\n",
      "|Groceries,Sauces,...|                           138|\n",
      "|Snacks,Sweet snac...|                           136|\n",
      "|           Beverages|                           118|\n",
      "|Plant-based foods...|                           108|\n",
      "|Snacks,Sweet snac...|                            92|\n",
      "|Spreads,Breakfast...|                            91|\n",
      "|Snacks,Sweet snac...|                            75|\n",
      "|Dairies,Fermented...|                            72|\n",
      "|Meats,Poultries,C...|                            68|\n",
      "|    Groceries,Sauces|                            62|\n",
      "|Snacks,Sweet snac...|                            59|\n",
      "|Plant-based foods...|                            57|\n",
      "|Groceries,Sauces,...|                            56|\n",
      "|Dairies,Fermented...|                            56|\n",
      "|Beverages,Alcohol...|                            56|\n",
      "|Snacks,Salty snac...|                            53|\n",
      "|Beverages,Alcohol...|                            53|\n",
      "|Snacks,Sweet snac...|                            49|\n",
      "+--------------------+------------------------------+\n",
      "only showing top 20 rows\n",
      "\n"
     ]
    }
   ],
   "source": [
    "productsDF.groupBy(\"Categories_en\") \\\n",
    "    .agg(count(\"Product_name\").alias(\"Number of products by category\"))\\\n",
    ".sort(col(\"Number of products by category\").desc()).show()"
   ]
  },
  {
   "cell_type": "markdown",
   "metadata": {},
   "source": [
    "  ####        o\tList containing names of products by category    "
   ]
  },
  {
   "cell_type": "code",
   "execution_count": 24,
   "metadata": {
    "scrolled": true
   },
   "outputs": [
    {
     "name": "stdout",
     "output_type": "stream",
     "text": [
      "+--------+--------------------+-----+\n",
      "|Category|             Product|count|\n",
      "+--------+--------------------+-----+\n",
      "|  Snacks|Waterbridge Belgi...|    1|\n",
      "|  Snacks|Spéculoos au lait...|    1|\n",
      "|  Snacks|Gaufres aux Œufs ...|    1|\n",
      "|  Snacks|Lotus Zebra Choco...|    1|\n",
      "|  Snacks|Collection 24 Min...|    1|\n",
      "|  Snacks|Chamallows cocoballs|    1|\n",
      "|  Snacks|Cantucci Toscani IGP|    1|\n",
      "|  Snacks|Grissini del Roer...|    1|\n",
      "|  Snacks|Lay's Oven baked ...|    1|\n",
      "|  Snacks|        Mikado & GO!|    1|\n",
      "|  Snacks|        M&M's Peanut|    1|\n",
      "|  Snacks|       Quatre Quarts|    1|\n",
      "|  Snacks|           Spéculoos|    7|\n",
      "|  Snacks|Melk chocolade - ...|    1|\n",
      "|  Snacks|            Winegums|    2|\n",
      "|  Snacks|Figurines de Père...|    1|\n",
      "|  Snacks| Gingembre sucré bio|    1|\n",
      "|  Snacks|Heinz Tomato Ketc...|    2|\n",
      "|  Snacks|Belgian Chocolate...|    1|\n",
      "|  Snacks|               Snack|    1|\n",
      "+--------+--------------------+-----+\n",
      "only showing top 20 rows\n",
      "\n"
     ]
    }
   ],
   "source": [
    "#create df where categories and products are split off\n",
    "df = productsDF\\\n",
    ".withColumn(\"Product_list\",split(col(\"Product_name\"),\",\"))\\\n",
    ".select(col(\"Categories_en\"), explode(col(\"Product_list\")).alias(\"Product\"))\\\n",
    ".withColumn(\"Categories_list\",split(col(\"Categories_en\"),\",\"))\\\n",
    ".select(col(\"Product\"), explode(col(\"Categories_list\")).alias(\"Category\"))\n",
    "\n",
    "#create count for category, which can be changed as needed\n",
    "countDF = df.groupBy(\"Category\",\"Product\").count()\\\n",
    ".filter(col('Category') == 'Snacks').show()"
   ]
  },
  {
   "cell_type": "markdown",
   "metadata": {},
   "source": [
    "   ####    What kind of category contains the most products?"
   ]
  },
  {
   "cell_type": "code",
   "execution_count": 25,
   "metadata": {},
   "outputs": [
    {
     "name": "stdout",
     "output_type": "stream",
     "text": [
      "+--------------------+------------------------------+\n",
      "|            Category|Number of products by category|\n",
      "+--------------------+------------------------------+\n",
      "|Plant-based foods...|                          5414|\n",
      "|   Plant-based foods|                          4554|\n",
      "|           Beverages|                          2667|\n",
      "|              Snacks|                          2434|\n",
      "|        Sweet snacks|                          1971|\n",
      "|             Dairies|                          1880|\n",
      "|Cereals and potatoes|                          1817|\n",
      "|     Fermented foods|                          1392|\n",
      "|Fruits and vegeta...|                          1371|\n",
      "|Fermented milk pr...|                          1358|\n",
      "|Cereals and their...|                          1263|\n",
      "|           Groceries|                          1228|\n",
      "|          Breakfasts|                          1182|\n",
      "|               Meals|                          1142|\n",
      "|             Spreads|                          1075|\n",
      "|Plant-based bever...|                           984|\n",
      "|  Biscuits and cakes|                           948|\n",
      "|             Cheeses|                           934|\n",
      "|              Sauces|                           862|\n",
      "|               Meats|                           844|\n",
      "+--------------------+------------------------------+\n",
      "only showing top 20 rows\n",
      "\n"
     ]
    }
   ],
   "source": [
    "df.groupBy(\"Category\") \\\n",
    "    .agg(count(\"Product\").alias(\"Number of products by category\"))\\\n",
    ".sort(col(\"Number of products by category\").desc()).show()"
   ]
  },
  {
   "cell_type": "markdown",
   "metadata": {},
   "source": [
    "### •\tIdentify traces and compute:  \n",
    "   ####     o\tNumber of products by trace      \n"
   ]
  },
  {
   "cell_type": "code",
   "execution_count": 26,
   "metadata": {},
   "outputs": [
    {
     "name": "stdout",
     "output_type": "stream",
     "text": [
      "+--------------------+---------------------------+\n",
      "|           Traces_en|Number of products by trace|\n",
      "+--------------------+---------------------------+\n",
      "|                null|                      46376|\n",
      "|                Nuts|                        445|\n",
      "|                Milk|                        246|\n",
      "|            Soybeans|                        132|\n",
      "|              Gluten|                        129|\n",
      "|        Nuts,Peanuts|                        124|\n",
      "|           Milk,Nuts|                         94|\n",
      "|         Gluten,Nuts|                         84|\n",
      "|       Nuts,Soybeans|                         81|\n",
      "|                Eggs|                         70|\n",
      "|        Sesame seeds|                         60|\n",
      "|    Eggs,Gluten,Nuts|                         58|\n",
      "|  Milk,Nuts,Soybeans|                         55|\n",
      "|   Nuts,Sesame seeds|                         49|\n",
      "|              Celery|                         48|\n",
      "|           Eggs,Nuts|                         43|\n",
      "|    Gluten,Milk,Nuts|                         41|\n",
      "|Nuts,Peanuts,Sesa...|                         39|\n",
      "|       Eggs,Soybeans|                         37|\n",
      "|       Milk,Soybeans|                         36|\n",
      "+--------------------+---------------------------+\n",
      "only showing top 20 rows\n",
      "\n"
     ]
    }
   ],
   "source": [
    "productsDF.groupBy(\"Traces_en\") \\\n",
    "    .agg(count(\"Product_name\").alias(\"Number of products by trace\"))\\\n",
    ".sort(col(\"Number of products by trace\").desc()).show()"
   ]
  },
  {
   "cell_type": "markdown",
   "metadata": {},
   "source": [
    "   ####     o\tList containing names of products by trace  "
   ]
  },
  {
   "cell_type": "code",
   "execution_count": 27,
   "metadata": {
    "scrolled": true
   },
   "outputs": [
    {
     "name": "stdout",
     "output_type": "stream",
     "text": [
      "+------+--------------------+-----+\n",
      "|Traces|             Product|count|\n",
      "+------+--------------------+-----+\n",
      "|  Nuts|       Saucisson Sec|    1|\n",
      "|  Nuts| Twix Barres Glacées|    1|\n",
      "|  Nuts|       Barre Protein|    1|\n",
      "|  Nuts|Cacahuètes caramé...|    1|\n",
      "|  Nuts|Mélange fe fruits...|    1|\n",
      "|  Nuts|           Chocotini|    2|\n",
      "|  Nuts|Gaufres Au Sucre ...|    1|\n",
      "|  Nuts|       Speculoos Eis|    1|\n",
      "|  Nuts|          Alpro coco|    1|\n",
      "|  Nuts|Collection 24 Min...|    1|\n",
      "|  Nuts|       Milka Caramel|    1|\n",
      "|  Nuts|        Sorbet Mango|    1|\n",
      "|  Nuts|Super Crunchy Muesli|    1|\n",
      "|  Nuts|             Amandes|    2|\n",
      "|  Nuts|  Nature sans sucres|    1|\n",
      "|  Nuts| Biscottes heudebert|    1|\n",
      "|  Nuts|        Petit Beurre|    2|\n",
      "|  Nuts|Spécial K Nourish...|    1|\n",
      "|  Nuts|       Riz Cantonais|    1|\n",
      "|  Nuts|Pâte à tartiner N...|    1|\n",
      "+------+--------------------+-----+\n",
      "only showing top 20 rows\n",
      "\n"
     ]
    }
   ],
   "source": [
    "#create df where products are split off\n",
    "df = productsDF\\\n",
    ".withColumn(\"Product_list\",split(col(\"Product_name\"),\",\"))\\\n",
    ".select(col(\"Traces_en\"), explode(col(\"Product_list\")).alias(\"Product\"))\\\n",
    ".withColumn(\"Traces_list\",split(col(\"Traces_en\"),\",\"))\\\n",
    ".select(col(\"Product\"), explode(col(\"Traces_list\")).alias(\"Traces\"))\\\n",
    "\n",
    "#create count for category, which can be changed as needed\n",
    "countDF = df.groupBy(\"Traces\",\"Product\").count()\\\n",
    ".filter(col('Traces') == 'Nuts').show()"
   ]
  },
  {
   "cell_type": "markdown",
   "metadata": {},
   "source": [
    "   ####    Let's see what kind of trace is present in most products"
   ]
  },
  {
   "cell_type": "code",
   "execution_count": 28,
   "metadata": {},
   "outputs": [
    {
     "name": "stdout",
     "output_type": "stream",
     "text": [
      "+--------------------+---------------------------+\n",
      "|              Traces|Number of products by trace|\n",
      "+--------------------+---------------------------+\n",
      "|                Nuts|                       2003|\n",
      "|                Milk|                       1338|\n",
      "|            Soybeans|                       1269|\n",
      "|              Gluten|                       1006|\n",
      "|                Eggs|                        875|\n",
      "|        Sesame seeds|                        810|\n",
      "|             Peanuts|                        522|\n",
      "|              Celery|                        486|\n",
      "|             Mustard|                        466|\n",
      "|                Fish|                        243|\n",
      "|               Lupin|                        208|\n",
      "|         Crustaceans|                        198|\n",
      "|            Molluscs|                        159|\n",
      "|Sulphur dioxide a...|                        136|\n",
      "|    fr:phenylalanine|                         37|\n",
      "|           fr:noyaux|                         10|\n",
      "|    fr:lait-d-amande|                          9|\n",
      "|           fr:avoine|                          8|\n",
      "|       Phenylalanine|                          7|\n",
      "|       fr:ble-gluten|                          4|\n",
      "+--------------------+---------------------------+\n",
      "only showing top 20 rows\n",
      "\n"
     ]
    }
   ],
   "source": [
    "df.groupBy(\"Traces\") \\\n",
    "    .agg(count(\"Product\").alias(\"Number of products by trace\"))\\\n",
    ".sort(col(\"Number of products by trace\").desc()).show()"
   ]
  },
  {
   "cell_type": "markdown",
   "metadata": {},
   "source": [
    "## 6. How healthy are the products?"
   ]
  },
  {
   "cell_type": "markdown",
   "metadata": {},
   "source": [
    "### We identified a health index in the data"
   ]
  },
  {
   "cell_type": "code",
   "execution_count": 29,
   "metadata": {},
   "outputs": [],
   "source": [
    "# Lets analyze this health index\n",
    "Nut_SC_DF = originalDF\\\n",
    "    .select('nutriscore_score', 'nutrition-score-fr_100g', 'nutrition-score-uk_100g' )"
   ]
  },
  {
   "cell_type": "code",
   "execution_count": 30,
   "metadata": {},
   "outputs": [
    {
     "name": "stdout",
     "output_type": "stream",
     "text": [
      "Summary nutriscore_score fields:\n",
      "+-------+-----------------+-----------------------+-----------------------+\n",
      "|summary| nutriscore_score|nutrition-score-fr_100g|nutrition-score-uk_100g|\n",
      "+-------+-----------------+-----------------------+-----------------------+\n",
      "|  count|            13127|                  13126|                      3|\n",
      "|   mean|9.039235105896694|      9.039235105896694|                    2.0|\n",
      "| stddev|8.811044125665036|      8.811044125665036|      6.244997998398398|\n",
      "|    min|              sel|                    -13|                     -3|\n",
      "|    25%|              1.0|                      1|                     -3|\n",
      "|    50%|              9.0|                      9|                      0|\n",
      "|    75%|             16.0|                     16|                      9|\n",
      "|    max|                9|                     34|                      9|\n",
      "+-------+-----------------+-----------------------+-----------------------+\n",
      "\n",
      "Checking for nulls on nutriscore_score fields:\n",
      "+----------------+-----------------------+-----------------------+\n",
      "|nutriscore_score|nutrition-score-fr_100g|nutrition-score-uk_100g|\n",
      "+----------------+-----------------------+-----------------------+\n",
      "|           38670|                  38671|                  51794|\n",
      "+----------------+-----------------------+-----------------------+\n",
      "\n",
      "Checking amount of distinct values in nutriscore_score fields:\n",
      "+----------------+-----------------------+-----------------------+\n",
      "|nutriscore_score|nutrition-score-fr_100g|nutrition-score-uk_100g|\n",
      "+----------------+-----------------------+-----------------------+\n",
      "|              48|                     47|                      3|\n",
      "+----------------+-----------------------+-----------------------+\n",
      "\n"
     ]
    }
   ],
   "source": [
    "print (\"Summary nutriscore_score fields:\")\n",
    "Nut_SC_DF.summary().show()\n",
    "\n",
    "print(\"Checking for nulls on nutriscore_score fields:\")\n",
    "Nut_SC_DF.select([count(when(col(c).isNull(), c)).alias(c) for c in Nut_SC_DF.columns]).show()\n",
    "\n",
    "print(\"Checking amount of distinct values in nutriscore_score fields:\")\n",
    "Nut_SC_DF.select([countDistinct(c).alias(c) for c in Nut_SC_DF.columns]).show()"
   ]
  },
  {
   "cell_type": "markdown",
   "metadata": {},
   "source": [
    "There are 38671 nulls, so while we could use this, we will explore other options"
   ]
  },
  {
   "cell_type": "markdown",
   "metadata": {},
   "source": [
    "### Lets see if we have information on other health indicators"
   ]
  },
  {
   "cell_type": "code",
   "execution_count": 31,
   "metadata": {},
   "outputs": [],
   "source": [
    "## Some nutrients used in the Nutri-index and others\n",
    "O_Nutr_DF = originalDF\\\n",
    "    .select('carbohydrates_100g', 'fiber_100g', 'proteins_100g','energy-kj_100g','energy-kcal_100g')\n",
    "\n",
    "# We tried all of these, but they are mostly nulls 'omega-3-fat_100g','trans-fat_100g','cholesterol_100g','-soluble-fiber_100g', \n",
    "#'-insoluble-fiber_100g','chlorophyl_100g'"
   ]
  },
  {
   "cell_type": "code",
   "execution_count": 32,
   "metadata": {},
   "outputs": [
    {
     "name": "stdout",
     "output_type": "stream",
     "text": [
      "Summary other nutri fields:\n",
      "+-------+------------------+------------------+-----------------+------------------+-----------------+\n",
      "|summary|carbohydrates_100g|        fiber_100g|    proteins_100g|    energy-kj_100g| energy-kcal_100g|\n",
      "+-------+------------------+------------------+-----------------+------------------+-----------------+\n",
      "|  count|             40860|              7648|            41005|              2503|            39842|\n",
      "|   mean|26.169418019180583|3.0425237101202893|8.085457162918072|1128.2764214942063|302.7755980208913|\n",
      "| stddev|27.670610888821475|  5.30777235078442|9.217497274115868| 814.3256479287658|6681.553529305641|\n",
      "|    min|               0.0|               0.0|              0.0|               0.0|              0.0|\n",
      "|    25%|               3.3|               0.1|  1.2999999523163|             356.0|             96.0|\n",
      "|    50%|              12.1|               1.5|              5.6|            1083.0|            251.0|\n",
      "|    75%|              51.5|             140.0|             11.6|            1731.0|            395.0|\n",
      "|    max|             629.0|             140.0|            100.0|            3776.0|        1333333.0|\n",
      "+-------+------------------+------------------+-----------------+------------------+-----------------+\n",
      "\n",
      "Checking for nulls on other nutri fields:\n",
      "+------------------+----------+-------------+--------------+----------------+\n",
      "|carbohydrates_100g|fiber_100g|proteins_100g|energy-kj_100g|energy-kcal_100g|\n",
      "+------------------+----------+-------------+--------------+----------------+\n",
      "|             10937|     44149|        10792|         49294|           11955|\n",
      "+------------------+----------+-------------+--------------+----------------+\n",
      "\n",
      "Checking amount of distinct values in other nutri fields:\n",
      "+------------------+----------+-------------+--------------+----------------+\n",
      "|carbohydrates_100g|fiber_100g|proteins_100g|energy-kj_100g|energy-kcal_100g|\n",
      "+------------------+----------+-------------+--------------+----------------+\n",
      "|              2049|       301|         1390|          1473|            1218|\n",
      "+------------------+----------+-------------+--------------+----------------+\n",
      "\n"
     ]
    }
   ],
   "source": [
    "print (\"Summary other nutri fields:\")\n",
    "O_Nutr_DF.summary().show()\n",
    "\n",
    "print(\"Checking for nulls on other nutri fields:\")\n",
    "O_Nutr_DF.select([count(when(col(c).isNull(), c)).alias(c) for c in O_Nutr_DF.columns]).show()\n",
    "\n",
    "print(\"Checking amount of distinct values in other nutri fields:\")\n",
    "O_Nutr_DF.select([countDistinct(c).alias(c) for c in O_Nutr_DF.columns]).show()"
   ]
  },
  {
   "cell_type": "code",
   "execution_count": 33,
   "metadata": {},
   "outputs": [],
   "source": [
    "# We see that  energy-kj_100g has many NAs, and energy-kcal_100g has less, we will add (in the original DF) to energy-kj_100g info \n",
    "# from energy-kcal_100g as we will use this column later.\n",
    "\n",
    "originalDF=originalDF.withColumn('energy-kj_100g', \\\n",
    "            when(originalDF[\"energy-kj_100g\"].isNull(), originalDF['energy-kcal_100g']*4.184)\\\n",
    "            .otherwise(originalDF[\"energy-kj_100g\"]))\n"
   ]
  },
  {
   "cell_type": "code",
   "execution_count": 34,
   "metadata": {},
   "outputs": [],
   "source": [
    "# We won't be able to use Fibers as there many NAs, lets look at Fruits, another component of the index\n",
    "FNV_DF = originalDF\\\n",
    "    .select('fruits-vegetables-nuts_100g','fruits-vegetables-nuts-dried_100g','fruits-vegetables-nuts-estimate_100g' )"
   ]
  },
  {
   "cell_type": "code",
   "execution_count": 35,
   "metadata": {},
   "outputs": [
    {
     "name": "stdout",
     "output_type": "stream",
     "text": [
      "Summary Fruits and Vegetables fields:\n",
      "+-------+---------------------------+---------------------------------+------------------------------------+\n",
      "|summary|fruits-vegetables-nuts_100g|fruits-vegetables-nuts-dried_100g|fruits-vegetables-nuts-estimate_100g|\n",
      "+-------+---------------------------+---------------------------------+------------------------------------+\n",
      "|  count|                        259|                               17|                                 432|\n",
      "|   mean|         29.146447876447873|                48.88235294117647|                  42.406134259259254|\n",
      "| stddev|         37.685193776457766|                33.95547149013907|                  30.934257751799812|\n",
      "|    min|                        0.0|                              0.0|                                 0.0|\n",
      "|    25%|                        0.0|                             33.0|                                12.5|\n",
      "|    50%|                        9.0|                             57.5|                                45.0|\n",
      "|    75%|                       53.0|                             66.6|                                61.0|\n",
      "|    max|                      100.0|                            100.0|                               100.0|\n",
      "+-------+---------------------------+---------------------------------+------------------------------------+\n",
      "\n",
      "Checking for nulls on Fruits and Vegetables fields:\n",
      "+---------------------------+---------------------------------+------------------------------------+\n",
      "|fruits-vegetables-nuts_100g|fruits-vegetables-nuts-dried_100g|fruits-vegetables-nuts-estimate_100g|\n",
      "+---------------------------+---------------------------------+------------------------------------+\n",
      "|                      51538|                            51780|                               51365|\n",
      "+---------------------------+---------------------------------+------------------------------------+\n",
      "\n",
      "Checking amount of distinct values in Fruits and Vegetables fields:\n",
      "+---------------------------+---------------------------------+------------------------------------+\n",
      "|fruits-vegetables-nuts_100g|fruits-vegetables-nuts-dried_100g|fruits-vegetables-nuts-estimate_100g|\n",
      "+---------------------------+---------------------------------+------------------------------------+\n",
      "|                         68|                               12|                                 152|\n",
      "+---------------------------+---------------------------------+------------------------------------+\n",
      "\n"
     ]
    }
   ],
   "source": [
    "print (\"Summary Fruits and Vegetables fields:\")\n",
    "FNV_DF.summary().show()\n",
    "\n",
    "print(\"Checking for nulls on Fruits and Vegetables fields:\")\n",
    "FNV_DF.select([count(when(col(c).isNull(), c)).alias(c) for c in FNV_DF.columns]).show()\n",
    "\n",
    "print(\"Checking amount of distinct values in Fruits and Vegetables fields:\")\n",
    "FNV_DF.select([countDistinct(c).alias(c) for c in FNV_DF.columns]).show()"
   ]
  },
  {
   "cell_type": "code",
   "execution_count": 36,
   "metadata": {},
   "outputs": [],
   "source": [
    "# Lets see how much info we have on vitamins\n",
    "Vitamins_DF = originalDF\\\n",
    "    .select('vitamin-a_100g', 'beta-carotene_100g', 'vitamin-d_100g', 'vitamin-e_100g', 'vitamin-k_100g', 'vitamin-c_100g')"
   ]
  },
  {
   "cell_type": "code",
   "execution_count": 37,
   "metadata": {},
   "outputs": [
    {
     "name": "stdout",
     "output_type": "stream",
     "text": [
      "Summary Vitamins:\n",
      "+-------+--------------------+------------------+------------------+------------------+--------------------+------------------+\n",
      "|summary|      vitamin-a_100g|beta-carotene_100g|    vitamin-d_100g|    vitamin-e_100g|      vitamin-k_100g|    vitamin-c_100g|\n",
      "+-------+--------------------+------------------+------------------+------------------+--------------------+------------------+\n",
      "|  count|                 128|                 1|               189|               144|                  10|               212|\n",
      "|   mean|4.905472656250002E-4|              0.26|0.3717056251322751|1.0303782875000007|         0.001042455|0.7546620754716986|\n",
      "| stddev|9.008793256273883E-4|               NaN| 4.703834618704441| 4.742594164475769|0.003147705036693...|5.2221010285027525|\n",
      "|    min|                 0.0|              0.26|               0.0|               0.0|                 0.0|               0.0|\n",
      "|    25%|              3.0E-5|              0.26|            7.5E-7|            0.0018|            1.125E-5|             0.012|\n",
      "|    50%|             2.25E-4|              0.26|            2.0E-6|             0.005|              2.5E-5|             0.022|\n",
      "|    75%|              8.0E-4|              0.26|            7.5E-6|             0.012|              1.1E-4|             0.047|\n",
      "|    max|               0.009|              0.26|              64.5|              33.9|                0.01|              58.0|\n",
      "+-------+--------------------+------------------+------------------+------------------+--------------------+------------------+\n",
      "\n",
      "Checking for nulls on Vitamins fields:\n",
      "+--------------+------------------+--------------+--------------+--------------+--------------+\n",
      "|vitamin-a_100g|beta-carotene_100g|vitamin-d_100g|vitamin-e_100g|vitamin-k_100g|vitamin-c_100g|\n",
      "+--------------+------------------+--------------+--------------+--------------+--------------+\n",
      "|         51669|             51796|         51608|         51653|         51787|         51585|\n",
      "+--------------+------------------+--------------+--------------+--------------+--------------+\n",
      "\n",
      "Checking amount of distinct values in Vitamins fields:\n",
      "+--------------+------------------+--------------+--------------+--------------+--------------+\n",
      "|vitamin-a_100g|beta-carotene_100g|vitamin-d_100g|vitamin-e_100g|vitamin-k_100g|vitamin-c_100g|\n",
      "+--------------+------------------+--------------+--------------+--------------+--------------+\n",
      "|            64|                 1|            57|            75|            10|            94|\n",
      "+--------------+------------------+--------------+--------------+--------------+--------------+\n",
      "\n"
     ]
    }
   ],
   "source": [
    "print (\"Summary Vitamins:\")\n",
    "Vitamins_DF.summary().show()\n",
    "\n",
    "print(\"Checking for nulls on Vitamins fields:\")\n",
    "Vitamins_DF.select([count(when(col(c).isNull(), c)).alias(c) for c in Vitamins_DF.columns]).show()\n",
    "\n",
    "print(\"Checking amount of distinct values in Vitamins fields:\")\n",
    "Vitamins_DF.select([countDistinct(c).alias(c) for c in Vitamins_DF.columns]).show()"
   ]
  },
  {
   "cell_type": "markdown",
   "metadata": {},
   "source": [
    "### Lets now create own own proxy index"
   ]
  },
  {
   "cell_type": "code",
   "execution_count": 38,
   "metadata": {},
   "outputs": [],
   "source": [
    "# The only nutrients we have 80% or more info for are 'energy-kj_100g','sugars_100g','saturated-fat_100g','sodium_100g','proteins_100g'\n",
    "NS_Proxy_DF=originalDF\\\n",
    "    .select('code','energy-kj_100g','sugars_100g','saturated-fat_100g','sodium_100g','proteins_100g','nutrition-score-fr_100g','nutriscore_grade')"
   ]
  },
  {
   "cell_type": "code",
   "execution_count": 39,
   "metadata": {},
   "outputs": [],
   "source": [
    "#Lets now convert key numerics to floats\n",
    "NS_Proxy_DF = NS_Proxy_DF.withColumn('energy-kj_100g', col('energy-kj_100g').cast('float'))\\\n",
    "                    .withColumn('sugars_100g', col('sugars_100g').cast('float'))\\\n",
    "                    .withColumn('saturated-fat_100g', col('saturated-fat_100g').cast('float'))\\\n",
    "                    .withColumn('sodium_100g', col('sodium_100g').cast('float'))\\\n",
    "                    .withColumn('proteins_100g', col('proteins_100g').cast('float'))\\\n",
    "                    .withColumn('nutrition-score-fr_100g', col('nutrition-score-fr_100g').cast('float'))"
   ]
  },
  {
   "cell_type": "code",
   "execution_count": 40,
   "metadata": {},
   "outputs": [
    {
     "name": "stdout",
     "output_type": "stream",
     "text": [
      "+-----------------------+--------+\n",
      "|nutrition-score-fr_100g|count(1)|\n",
      "+-----------------------+--------+\n",
      "|                   null|   38671|\n",
      "|                  -13.0|       2|\n",
      "|                  -12.0|       6|\n",
      "|                  -11.0|       7|\n",
      "|                  -10.0|       9|\n",
      "|                   -9.0|      15|\n",
      "|                   -8.0|      34|\n",
      "|                   -7.0|      47|\n",
      "|                   -6.0|     151|\n",
      "|                   -5.0|     180|\n",
      "|                   -4.0|     284|\n",
      "|                   -3.0|     281|\n",
      "|                   -2.0|     316|\n",
      "|                   -1.0|     523|\n",
      "|                    0.0|     820|\n",
      "|                    1.0|     628|\n",
      "|                    2.0|     653|\n",
      "|                    3.0|     551|\n",
      "|                    4.0|     514|\n",
      "|                    5.0|     449|\n",
      "+-----------------------+--------+\n",
      "only showing top 20 rows\n",
      "\n"
     ]
    }
   ],
   "source": [
    "# As seen above there 38671 rows with out a value for Nutriscore\n",
    "\n",
    "NS_Proxy_DF.select('sugars_100g','nutrition-score-fr_100g').groupby('nutrition-score-fr_100g')\\\n",
    ".agg(count(lit(1))).orderBy('nutrition-score-fr_100g').show(20)\n",
    "\n",
    "#.agg(F.collect_set(\"Product_name\")).orderBy(\"Traces_en\")\n",
    "#([count(when(col(c).isNull(), c)).alias(c)\n",
    "#,'sugars_100g','saturated-fat_100g','sodium_100g','proteins_100g'"
   ]
  },
  {
   "cell_type": "code",
   "execution_count": 41,
   "metadata": {},
   "outputs": [
    {
     "name": "stdout",
     "output_type": "stream",
     "text": [
      "Nulls for columns in Health Index with no nutrition score:\n",
      "+----+--------------+-----------+------------------+-----------+-------------+-----------------------+----------------+\n",
      "|code|energy-kj_100g|sugars_100g|saturated-fat_100g|sodium_100g|proteins_100g|nutrition-score-fr_100g|nutriscore_grade|\n",
      "+----+--------------+-----------+------------------+-----------+-------------+-----------------------+----------------+\n",
      "|   0|         10458|      10778|             10630|      11091|        10713|                  38671|           38670|\n",
      "+----+--------------+-----------+------------------+-----------+-------------+-----------------------+----------------+\n",
      "\n"
     ]
    }
   ],
   "source": [
    "#Let's see if we have full info on the nutrients for the ones we don't have a Nutriscore for\n",
    "print(\"Nulls for columns in Health Index with no nutrition score:\")\n",
    "NS_Proxy_DF.filter(col(\"nutrition-score-fr_100g\").isNull())\\\n",
    "        .select([count(when(col(c).isNull(), c)).alias(c) for c in NS_Proxy_DF.columns]).show()\n",
    "\n",
    "#originalDF.groupby('Sugar?').pivot('Nutriscore?')\\\n",
    "#.agg(count(lit(1))).show()\n",
    "#filter(col(\"nutrition-score-fr_100g\")!='None')\\"
   ]
  },
  {
   "cell_type": "code",
   "execution_count": 42,
   "metadata": {},
   "outputs": [
    {
     "name": "stdout",
     "output_type": "stream",
     "text": [
      "NUlls columns in Health Index for all rows:\n",
      "+----+--------------+-----------+------------------+-----------+-------------+-----------------------+----------------+\n",
      "|code|energy-kj_100g|sugars_100g|saturated-fat_100g|sodium_100g|proteins_100g|nutrition-score-fr_100g|nutriscore_grade|\n",
      "+----+--------------+-----------+------------------+-----------+-------------+-----------------------+----------------+\n",
      "|   0|         10564|      10857|             10709|      11149|        10792|                  38671|           38670|\n",
      "+----+--------------+-----------+------------------+-----------+-------------+-----------------------+----------------+\n",
      "\n"
     ]
    }
   ],
   "source": [
    "print(\"NUlls columns in Health Index for all rows:\")\n",
    "NS_Proxy_DF.select([count(when(col(c).isNull(), c)).alias(c) for c in NS_Proxy_DF.columns]).show()"
   ]
  },
  {
   "cell_type": "markdown",
   "metadata": {},
   "source": [
    "We see from the above that most of the values that we don't have nutritional infor for our Index, we don't either have a calculated nutriscore, so we can't calculate a nutritional index, so we will drop all the rows with no information on nutrients  and see what our data frame looks like."
   ]
  },
  {
   "cell_type": "code",
   "execution_count": 43,
   "metadata": {},
   "outputs": [
    {
     "name": "stdout",
     "output_type": "stream",
     "text": [
      "+----+--------------+-----------+------------------+-----------+-------------+-----------------------+----------------+\n",
      "|code|energy-kj_100g|sugars_100g|saturated-fat_100g|sodium_100g|proteins_100g|nutrition-score-fr_100g|nutriscore_grade|\n",
      "+----+--------------+-----------+------------------+-----------+-------------+-----------------------+----------------+\n",
      "|   0|             0|          0|                 0|          0|            0|                  26670|           26670|\n",
      "+----+--------------+-----------+------------------+-----------+-------------+-----------------------+----------------+\n",
      "\n"
     ]
    }
   ],
   "source": [
    "#We still have some nulls so we can remove all the sat fat nulls\n",
    "NS_Proxy_DF.filter(col(\"sodium_100g\").isNotNull()&(col(\"sugars_100g\").isNotNull())&(col(\"saturated-fat_100g\").isNotNull())\\\n",
    "                   &(col(\"energy-kj_100g\").isNotNull())&(col(\"proteins_100g\").isNotNull()))\\\n",
    "                    .select([count(when(col(c).isNull(), c)).alias(c) for c in NS_Proxy_DF.columns]).show()\n",
    "\n"
   ]
  },
  {
   "cell_type": "code",
   "execution_count": 44,
   "metadata": {},
   "outputs": [
    {
     "data": {
      "text/plain": [
       "39684"
      ]
     },
     "execution_count": 44,
     "metadata": {},
     "output_type": "execute_result"
    }
   ],
   "source": [
    "## CHeck the size of the DF\n",
    "NS_Proxy_DF.filter(col(\"sodium_100g\").isNotNull()&(col(\"sugars_100g\").isNotNull())&(col(\"saturated-fat_100g\").isNotNull())&(col(\"energy-kj_100g\").isNotNull())&(col(\"proteins_100g\").isNotNull())).count()"
   ]
  },
  {
   "cell_type": "code",
   "execution_count": 45,
   "metadata": {},
   "outputs": [],
   "source": [
    "##Actually create the bew DF with no nulls in nutrients to be usend in index\n",
    "NS_Filtered=NS_Proxy_DF.filter(col(\"sodium_100g\").isNotNull()&(col(\"sugars_100g\").isNotNull())&(col(\"saturated-fat_100g\").isNotNull())\\\n",
    "                   &(col(\"energy-kj_100g\").isNotNull())&(col(\"proteins_100g\").isNotNull()))"
   ]
  },
  {
   "cell_type": "code",
   "execution_count": 46,
   "metadata": {},
   "outputs": [
    {
     "data": {
      "text/plain": [
       "[Row(code=11210115644.0, energy-kj_100g=67.0, sugars_100g=0.0, saturated-fat_100g=0.20000000298023224, sodium_100g=0.7200000286102295, proteins_100g=1.0, nutrition-score-fr_100g=6.0, nutriscore_grade='c')]"
      ]
     },
     "execution_count": 46,
     "metadata": {},
     "output_type": "execute_result"
    }
   ],
   "source": [
    "NS_Filtered.sample(False, 0.1).take(1)"
   ]
  },
  {
   "cell_type": "code",
   "execution_count": 47,
   "metadata": {},
   "outputs": [
    {
     "name": "stdout",
     "output_type": "stream",
     "text": [
      "+-------+------------------+------------------+------------------+------------------+\n",
      "|summary|    energy-kj_100g|       sugars_100g|saturated-fat_100g|       sodium_100g|\n",
      "+-------+------------------+------------------+------------------+------------------+\n",
      "|  count|             39684|             39684|             39684|             39684|\n",
      "|   mean|1276.6580476085833|  12.3751026196086| 5.052917419416349|0.4497129997435734|\n",
      "| stddev|  28010.8717556618|18.783854371124892|10.593822528828682|1.4594212693037263|\n",
      "|    min|               0.0|               0.0|               0.0|               0.0|\n",
      "|    25%|             418.4|               0.8|               0.2|              0.02|\n",
      "|    50%|          1058.552|               3.5|               1.8|               0.2|\n",
      "|    75%|          1665.232|              14.0|               6.8|              0.52|\n",
      "|    max|         5578665.5|             119.0|            1400.0|              72.0|\n",
      "+-------+------------------+------------------+------------------+------------------+\n",
      "\n"
     ]
    }
   ],
   "source": [
    "#Lets analyze the 5 nutrients we have infor for and the nutriscore column.\n",
    "NS_Filtered['energy-kj_100g','sugars_100g','saturated-fat_100g','sodium_100g'].summary().show()"
   ]
  },
  {
   "cell_type": "code",
   "execution_count": 48,
   "metadata": {},
   "outputs": [
    {
     "name": "stdout",
     "output_type": "stream",
     "text": [
      "+-------+-----------------+-----------------------+----------------+\n",
      "|summary|    proteins_100g|nutrition-score-fr_100g|nutriscore_grade|\n",
      "+-------+-----------------+-----------------------+----------------+\n",
      "|  count|            39684|                  13014|           13014|\n",
      "|   mean|8.155955470560041|       9.09689565083756|            null|\n",
      "| stddev|9.237262930134275|       8.81303714991348|            null|\n",
      "|    min|              0.0|                  -13.0|               a|\n",
      "|    25%|              1.3|                    2.0|            null|\n",
      "|    50%|              5.7|                    9.0|            null|\n",
      "|    75%|             11.8|                   16.0|            null|\n",
      "|    max|            100.0|                   34.0|               e|\n",
      "+-------+-----------------+-----------------------+----------------+\n",
      "\n"
     ]
    }
   ],
   "source": [
    "NS_Filtered['proteins_100g','nutrition-score-fr_100g','nutriscore_grade'].summary().show()"
   ]
  },
  {
   "cell_type": "code",
   "execution_count": 49,
   "metadata": {},
   "outputs": [
    {
     "data": {
      "text/markdown": [
       "This DataFrame has **39684 rows** and ***8 columns***."
      ],
      "text/plain": [
       "<IPython.core.display.Markdown object>"
      ]
     },
     "metadata": {},
     "output_type": "display_data"
    }
   ],
   "source": [
    "display(Markdown(\"This DataFrame has **%d rows** and ***%d columns***.\" % (NS_Filtered.count(), len(NS_Filtered.columns))))"
   ]
  },
  {
   "cell_type": "markdown",
   "metadata": {},
   "source": [
    "There are some extreme values at the top end, so we will deal with the possible outliers in all 5 groups we will use for the Proxy Index"
   ]
  },
  {
   "cell_type": "code",
   "execution_count": 50,
   "metadata": {},
   "outputs": [],
   "source": [
    "quartilesDF = NS_Filtered.select('energy-kj_100g','sugars_100g','saturated-fat_100g','sodium_100g','proteins_100g').summary(\"25%\",\"50%\",\"75%\")"
   ]
  },
  {
   "cell_type": "code",
   "execution_count": 51,
   "metadata": {},
   "outputs": [],
   "source": [
    "#energy-kj_100g\n",
    "Q1=float(quartilesDF.where(\"summary='25%'\").first()[\"energy-kj_100g\"])\n",
    "Q3=float(quartilesDF.where(\"summary='75%'\").first()[\"energy-kj_100g\"])\n",
    "E_Med=float(quartilesDF.where(\"summary='50%'\").first()[\"energy-kj_100g\"])\n",
    "E_UB=Q3 + (1.5 * (Q3-Q1))\n"
   ]
  },
  {
   "cell_type": "code",
   "execution_count": 52,
   "metadata": {},
   "outputs": [],
   "source": [
    "#sugars_100g\n",
    "Q1=float(quartilesDF.where(\"summary='25%'\").first()[\"sugars_100g\"])\n",
    "Q3=float(quartilesDF.where(\"summary='75%'\").first()[\"sugars_100g\"])\n",
    "S_Med=float(quartilesDF.where(\"summary='50%'\").first()[\"sugars_100g\"])\n",
    "S_UB=Q3 + (1.5 * (Q3-Q1))"
   ]
  },
  {
   "cell_type": "code",
   "execution_count": 53,
   "metadata": {},
   "outputs": [],
   "source": [
    "#saturated-fat_100g\n",
    "Q1=float(quartilesDF.where(\"summary='25%'\").first()[\"saturated-fat_100g\"])\n",
    "Q3=float(quartilesDF.where(\"summary='75%'\").first()[\"saturated-fat_100g\"])\n",
    "F_Med=float(quartilesDF.where(\"summary='50%'\").first()[\"saturated-fat_100g\"])\n",
    "F_UB=Q3 + (1.5 * (Q3-Q1))"
   ]
  },
  {
   "cell_type": "code",
   "execution_count": 54,
   "metadata": {},
   "outputs": [],
   "source": [
    "#sodium_100g\n",
    "Q1=float(quartilesDF.where(\"summary='25%'\").first()[\"sodium_100g\"])\n",
    "Q3=float(quartilesDF.where(\"summary='75%'\").first()[\"sodium_100g\"])\n",
    "SO_Med=float(quartilesDF.where(\"summary='50%'\").first()[\"sodium_100g\"])\n",
    "SO_UB=Q3 + (1.5 * (Q3-Q1))"
   ]
  },
  {
   "cell_type": "code",
   "execution_count": 55,
   "metadata": {},
   "outputs": [],
   "source": [
    "#proteins_100g\n",
    "Q1=float(quartilesDF.where(\"summary='25%'\").first()[\"proteins_100g\"])\n",
    "Q3=float(quartilesDF.where(\"summary='75%'\").first()[\"proteins_100g\"])\n",
    "P_Med=float(quartilesDF.where(\"summary='50%'\").first()[\"proteins_100g\"])\n",
    "P_UB=Q3 + (1.5 * (Q3-Q1))"
   ]
  },
  {
   "cell_type": "code",
   "execution_count": 56,
   "metadata": {},
   "outputs": [],
   "source": [
    "#We will replace outliers with the median \n",
    "\n",
    "NS_Filtered=NS_Filtered.withColumn('energy-kj_100g', \\\n",
    "           when(NS_Filtered['energy-kj_100g']>E_UB,E_Med)\\\n",
    "            .otherwise(NS_Filtered['energy-kj_100g']))\n",
    "\n",
    "NS_Filtered=NS_Filtered.withColumn('sugars_100g', \\\n",
    "            when(NS_Filtered['sugars_100g']>S_UB,S_Med)\\\n",
    "            .otherwise(NS_Filtered['sugars_100g']))\n",
    "\n",
    "NS_Filtered=NS_Filtered.withColumn('saturated-fat_100g', \\\n",
    "           when(NS_Filtered['saturated-fat_100g']>F_UB,F_Med)\\\n",
    "            .otherwise(NS_Filtered['saturated-fat_100g']))\n",
    "\n",
    "NS_Filtered=NS_Filtered.withColumn('sodium_100g', \\\n",
    "           when(NS_Filtered['sodium_100g']>SO_UB,SO_Med)\\\n",
    "            .otherwise(NS_Filtered['sodium_100g']))\n",
    "\n",
    "NS_Filtered=NS_Filtered.withColumn('proteins_100g', \\\n",
    "            when(NS_Filtered['proteins_100g']>P_UB,P_Med)\\\n",
    "            .otherwise(NS_Filtered['proteins_100g']))"
   ]
  },
  {
   "cell_type": "code",
   "execution_count": 57,
   "metadata": {},
   "outputs": [
    {
     "name": "stdout",
     "output_type": "stream",
     "text": [
      "+-------+------------------+-----------------+-------------------+--------------------+------------------+\n",
      "|summary|    energy-kj_100g|      sugars_100g| saturated-fat_100g|         sodium_100g|     proteins_100g|\n",
      "+-------+------------------+-----------------+-------------------+--------------------+------------------+\n",
      "|  count|             39684|            39684|              39684|               39684|             39684|\n",
      "|   mean|1106.9307687621465|5.546259781231657|  3.086016121942874| 0.26891306391862757| 7.189432858922341|\n",
      "| stddev| 775.6630732597955|7.343360271781261|  4.002988067976653| 0.29127238366218583|  6.94789573880771|\n",
      "|    min|               0.0|              0.0|                0.0|                 0.0|               0.0|\n",
      "|    25%| 418.3999938964844|0.800000011920929|0.20000000298023224|0.019999999552965164|1.2999999523162842|\n",
      "|    50%|          1058.552|              3.5| 1.7999999523162842|                 0.2| 5.699999809265137|\n",
      "|    75%|  1644.31201171875|              6.0|  4.199999809265137|  0.4399999976158142|10.699999809265137|\n",
      "|    max| 3527.112060546875|33.79999923706055| 16.600000381469727|  1.2599999904632568|27.549999237060547|\n",
      "+-------+------------------+-----------------+-------------------+--------------------+------------------+\n",
      "\n"
     ]
    }
   ],
   "source": [
    "NS_Filtered.select('energy-kj_100g','sugars_100g','saturated-fat_100g','sodium_100g','proteins_100g').summary().show()"
   ]
  },
  {
   "cell_type": "markdown",
   "metadata": {},
   "source": [
    "We now seem to have less extreme values"
   ]
  },
  {
   "cell_type": "markdown",
   "metadata": {},
   "source": [
    "#### Lets create the index"
   ]
  },
  {
   "cell_type": "code",
   "execution_count": 58,
   "metadata": {},
   "outputs": [],
   "source": [
    "## Lets get a score for energy-kj_100g\n",
    "\n",
    "NS_Filtered=NS_Filtered.withColumn('energy-kj_Score', \\\n",
    "            when(NS_Filtered[\"energy-kj_100g\"]<=335,0)\\\n",
    "            .when((NS_Filtered[\"energy-kj_100g\"]>335)&(NS_Filtered[\"energy-kj_100g\"]<670),1)\\\n",
    "            .when((NS_Filtered[\"energy-kj_100g\"]>670)&(NS_Filtered[\"energy-kj_100g\"]<1005),2)\\\n",
    "            .when((NS_Filtered[\"energy-kj_100g\"]>1005)&(NS_Filtered[\"energy-kj_100g\"]<1340),3)\\\n",
    "            .when((NS_Filtered[\"energy-kj_100g\"]>1340)&(NS_Filtered[\"energy-kj_100g\"]<1675),4)\\\n",
    "            .when((NS_Filtered[\"energy-kj_100g\"]>1675)&(NS_Filtered[\"energy-kj_100g\"]<2010),5)\\\n",
    "            .when((NS_Filtered[\"energy-kj_100g\"]>2010)&(NS_Filtered[\"energy-kj_100g\"]<2345),6)\\\n",
    "            .when((NS_Filtered[\"energy-kj_100g\"]>2345)&(NS_Filtered[\"energy-kj_100g\"]<2680),7)\\\n",
    "            .when((NS_Filtered[\"energy-kj_100g\"]>2680)&(NS_Filtered[\"energy-kj_100g\"]<3015),8)\\\n",
    "            .when((NS_Filtered[\"energy-kj_100g\"]>3015)&(NS_Filtered[\"energy-kj_100g\"]<3350),9)\\\n",
    "            .otherwise(10))"
   ]
  },
  {
   "cell_type": "markdown",
   "metadata": {},
   "source": [
    "Lets create a sugar score"
   ]
  },
  {
   "cell_type": "code",
   "execution_count": 59,
   "metadata": {},
   "outputs": [],
   "source": [
    "\n",
    "NS_Filtered=NS_Filtered.withColumn('sugars_Score', \\\n",
    "            when(NS_Filtered[\"sugars_100g\"]<=4.5,0)\\\n",
    "            .when((NS_Filtered[\"sugars_100g\"]>4.5)&(NS_Filtered[\"sugars_100g\"]<9),1)\\\n",
    "            .when((NS_Filtered[\"sugars_100g\"]>9)&(NS_Filtered[\"sugars_100g\"]<13.5),2)\\\n",
    "            .when((NS_Filtered[\"sugars_100g\"]>13.5)&(NS_Filtered[\"sugars_100g\"]<18),3)\\\n",
    "            .when((NS_Filtered[\"sugars_100g\"]>18)&(NS_Filtered[\"sugars_100g\"]<22.5),4)\\\n",
    "            .when((NS_Filtered[\"sugars_100g\"]>22.5)&(NS_Filtered[\"sugars_100g\"]<27),5)\\\n",
    "            .when((NS_Filtered[\"sugars_100g\"]>27)&(NS_Filtered[\"sugars_100g\"]<31),6)\\\n",
    "            .when((NS_Filtered[\"sugars_100g\"]>31)&(NS_Filtered[\"sugars_100g\"]<36),7)\\\n",
    "            .when((NS_Filtered[\"sugars_100g\"]>36)&(NS_Filtered[\"sugars_100g\"]<10),8)\\\n",
    "            .when((NS_Filtered[\"sugars_100g\"]>40)&(NS_Filtered[\"sugars_100g\"]<45),9)\\\n",
    "            .otherwise(10))"
   ]
  },
  {
   "cell_type": "markdown",
   "metadata": {},
   "source": [
    "Lets create a fat score"
   ]
  },
  {
   "cell_type": "code",
   "execution_count": 60,
   "metadata": {},
   "outputs": [],
   "source": [
    "NS_Filtered=NS_Filtered.withColumn('sat_fat_Score', \\\n",
    "            when(NS_Filtered[\"saturated-fat_100g\"]<=1,0)\\\n",
    "            .when((NS_Filtered[\"saturated-fat_100g\"]>1)&(NS_Filtered[\"saturated-fat_100g\"]<2),1)\\\n",
    "            .when((NS_Filtered[\"saturated-fat_100g\"]>2)&(NS_Filtered[\"saturated-fat_100g\"]<3),2)\\\n",
    "            .when((NS_Filtered[\"saturated-fat_100g\"]>3)&(NS_Filtered[\"saturated-fat_100g\"]<4),3)\\\n",
    "            .when((NS_Filtered[\"saturated-fat_100g\"]>4)&(NS_Filtered[\"saturated-fat_100g\"]<5),4)\\\n",
    "            .when((NS_Filtered[\"saturated-fat_100g\"]>5)&(NS_Filtered[\"saturated-fat_100g\"]<6),5)\\\n",
    "            .when((NS_Filtered[\"saturated-fat_100g\"]>6)&(NS_Filtered[\"saturated-fat_100g\"]<7),6)\\\n",
    "            .when((NS_Filtered[\"saturated-fat_100g\"]>7)&(NS_Filtered[\"saturated-fat_100g\"]<8),7)\\\n",
    "            .when((NS_Filtered[\"saturated-fat_100g\"]>8)&(NS_Filtered[\"saturated-fat_100g\"]<9),8)\\\n",
    "            .when((NS_Filtered[\"saturated-fat_100g\"]>9)&(NS_Filtered[\"saturated-fat_100g\"]<10),9)\\\n",
    "            .otherwise(10))"
   ]
  },
  {
   "cell_type": "markdown",
   "metadata": {},
   "source": [
    "Lets create a sodium score"
   ]
  },
  {
   "cell_type": "code",
   "execution_count": 61,
   "metadata": {},
   "outputs": [],
   "source": [
    "NS_Filtered=NS_Filtered.withColumn('sodium_Score', \\\n",
    "            when(NS_Filtered[\"sodium_100g\"]<=90,0)\\\n",
    "            .when((NS_Filtered[\"sodium_100g\"]>90)&(NS_Filtered[\"sodium_100g\"]<180),1)\\\n",
    "            .when((NS_Filtered[\"sodium_100g\"]>180)&(NS_Filtered[\"sodium_100g\"]<270),2)\\\n",
    "            .when((NS_Filtered[\"sodium_100g\"]>270)&(NS_Filtered[\"sodium_100g\"]<360),3)\\\n",
    "            .when((NS_Filtered[\"sodium_100g\"]>360)&(NS_Filtered[\"sodium_100g\"]<450),4)\\\n",
    "            .when((NS_Filtered[\"sodium_100g\"]>450)&(NS_Filtered[\"sodium_100g\"]<540),5)\\\n",
    "            .when((NS_Filtered[\"sodium_100g\"]>540)&(NS_Filtered[\"sodium_100g\"]<630),6)\\\n",
    "            .when((NS_Filtered[\"sodium_100g\"]>630)&(NS_Filtered[\"sodium_100g\"]<720),7)\\\n",
    "            .when((NS_Filtered[\"sodium_100g\"]>720)&(NS_Filtered[\"sodium_100g\"]<810),8)\\\n",
    "            .when((NS_Filtered[\"sodium_100g\"]>810)&(NS_Filtered[\"sodium_100g\"]<900),9)\\\n",
    "            .otherwise(10))"
   ]
  },
  {
   "cell_type": "markdown",
   "metadata": {},
   "source": [
    "Lastly a protein score"
   ]
  },
  {
   "cell_type": "code",
   "execution_count": 62,
   "metadata": {},
   "outputs": [],
   "source": [
    "NS_Filtered=NS_Filtered.withColumn('proteins_Score', \\\n",
    "            when(NS_Filtered[\"proteins_100g\"]<=1.6,0)\\\n",
    "            .when((NS_Filtered[\"proteins_100g\"]>1.6)&(NS_Filtered[\"proteins_100g\"]<3.2),1)\\\n",
    "            .when((NS_Filtered[\"proteins_100g\"]>3.2)&(NS_Filtered[\"proteins_100g\"]<4.8),2)\\\n",
    "            .when((NS_Filtered[\"proteins_100g\"]>4.8)&(NS_Filtered[\"proteins_100g\"]<6.4),3)\\\n",
    "            .when((NS_Filtered[\"proteins_100g\"]>6.4)&(NS_Filtered[\"proteins_100g\"]<8),4)\\\n",
    "            .otherwise(5))"
   ]
  },
  {
   "cell_type": "code",
   "execution_count": 63,
   "metadata": {},
   "outputs": [
    {
     "name": "stdout",
     "output_type": "stream",
     "text": [
      "+-------+-----------------+------------------+-----------------+------------+------------------+\n",
      "|summary|  energy-kj_Score|      sugars_Score|    sat_fat_Score|sodium_Score|    proteins_Score|\n",
      "+-------+-----------------+------------------+-----------------+------------+------------------+\n",
      "|  count|            39684|             39684|            39684|       39684|             39684|\n",
      "|   mean|2.826857171656083|0.9080485838121157|2.751763935087189|         0.0|2.6905049894163895|\n",
      "| stddev|2.305593371555645|1.8926236483868455|3.668884959235313|         0.0| 2.058445860824061|\n",
      "|    min|                0|                 0|                0|           0|                 0|\n",
      "|    25%|                1|                 0|                0|           0|                 0|\n",
      "|    50%|                3|                 0|                1|           0|                 3|\n",
      "|    75%|                4|                 1|                5|           0|                 5|\n",
      "|    max|               10|                10|               10|           0|                 5|\n",
      "+-------+-----------------+------------------+-----------------+------------+------------------+\n",
      "\n"
     ]
    }
   ],
   "source": [
    "NS_Filtered.select('energy-kj_Score','sugars_Score','sat_fat_Score','sodium_Score','proteins_Score').summary().show()"
   ]
  },
  {
   "cell_type": "markdown",
   "metadata": {},
   "source": [
    "Put all three together to get our simplified proxy for the Nutriscore. We gave tripple the weight to proteins as it was the only\n",
    "\"good\" atribute we had."
   ]
  },
  {
   "cell_type": "code",
   "execution_count": 64,
   "metadata": {},
   "outputs": [],
   "source": [
    "NS_Filtered=NS_Filtered.withColumn('Nutri_Score_Proxy', ((col(\"energy-kj_Score\")+col(\"sugars_Score\")\\\n",
    "                                   +col(\"sat_fat_Score\")+col(\"sodium_Score\")-3*col(\"proteins_Score\"))))"
   ]
  },
  {
   "cell_type": "markdown",
   "metadata": {},
   "source": [
    "Lets create the color code using the same scale as the Nutrindex\n",
    "  "
   ]
  },
  {
   "cell_type": "code",
   "execution_count": 65,
   "metadata": {},
   "outputs": [],
   "source": [
    "NS_Filtered=NS_Filtered.withColumn('Nutri_Score_Let', \\\n",
    "            when(NS_Filtered[\"Nutri_Score_Proxy\"]<0,'A')\\\n",
    "            .when((NS_Filtered[\"Nutri_Score_Proxy\"]>=0)&(NS_Filtered[\"Nutri_Score_Proxy\"]<3),'B')\\\n",
    "            .when((NS_Filtered[\"Nutri_Score_Proxy\"]>=3)&(NS_Filtered[\"Nutri_Score_Proxy\"]<11),'C')\\\n",
    "            .when((NS_Filtered[\"Nutri_Score_Proxy\"]>=11)&(NS_Filtered[\"Nutri_Score_Proxy\"]<19),'D')\\\n",
    "            .otherwise('E'))"
   ]
  },
  {
   "cell_type": "code",
   "execution_count": 66,
   "metadata": {},
   "outputs": [
    {
     "name": "stdout",
     "output_type": "stream",
     "text": [
      "+---------------+---------+\n",
      "|Nutri_Score_Let|#of_prods|\n",
      "+---------------+---------+\n",
      "|              A|    20571|\n",
      "|              B|     9607|\n",
      "|              C|     7320|\n",
      "|              D|     1914|\n",
      "|              E|      272|\n",
      "+---------------+---------+\n",
      "\n"
     ]
    }
   ],
   "source": [
    "NS_Filtered.groupBy(NS_Filtered['Nutri_Score_Let']).agg(count(lit(1)).alias(\"#of_prods\")).orderBy(col(\"Nutri_Score_Let\")).show()"
   ]
  },
  {
   "cell_type": "code",
   "execution_count": 67,
   "metadata": {},
   "outputs": [
    {
     "name": "stdout",
     "output_type": "stream",
     "text": [
      "+---------------+-----+----+----+----+----+---+\n",
      "|Nutri_Score_Let| null|   a|   b|   c|   d|  e|\n",
      "+---------------+-----+----+----+----+----+---+\n",
      "|              A|14064|1380|1247|1386|1780|714|\n",
      "|              B| 6458| 408| 549| 888| 747|557|\n",
      "|              C| 4803|  73|  98| 486|1003|857|\n",
      "|              D| 1177|   2|   6|  96| 275|358|\n",
      "|              E|  168|null|null|  51|  35| 18|\n",
      "+---------------+-----+----+----+----+----+---+\n",
      "\n"
     ]
    }
   ],
   "source": [
    "#Lets compare our clasification, to the Nutriscore\n",
    "NS_Filtered.groupBy('Nutri_Score_Let').pivot('nutriscore_grade').agg(count(lit(1))).orderBy(col(\"Nutri_Score_Let\")).show()"
   ]
  },
  {
   "cell_type": "markdown",
   "metadata": {},
   "source": [
    "As expected they are different, but at least we can get a proxy for how healthy each product is"
   ]
  },
  {
   "cell_type": "code",
   "execution_count": 68,
   "metadata": {},
   "outputs": [
    {
     "name": "stdout",
     "output_type": "stream",
     "text": [
      "+---------------------------+---------+\n",
      "|round(Nutri_Score_Proxy, 0)|#of_prods|\n",
      "+---------------------------+---------+\n",
      "|                        -15|      262|\n",
      "|                        -14|     1077|\n",
      "|                        -13|      675|\n",
      "|                        -12|     1024|\n",
      "|                        -11|     2224|\n",
      "|                        -10|     1677|\n",
      "|                         -9|     1249|\n",
      "|                         -8|     1354|\n",
      "|                         -7|     1021|\n",
      "|                         -6|     1096|\n",
      "|                         -5|     1617|\n",
      "|                         -4|     1428|\n",
      "|                         -3|     2042|\n",
      "|                         -2|     2263|\n",
      "|                         -1|     1562|\n",
      "|                          0|     4216|\n",
      "|                          1|     2609|\n",
      "|                          2|     2782|\n",
      "|                          3|     1567|\n",
      "|                          4|     1600|\n",
      "+---------------------------+---------+\n",
      "only showing top 20 rows\n",
      "\n"
     ]
    }
   ],
   "source": [
    "#Lets see the distribution of scores\n",
    "NS_Filtered.groupBy(round(NS_Filtered['Nutri_Score_Proxy'],0)).agg(count(lit(1)).alias(\"#of_prods\")).orderBy(round(NS_Filtered['Nutri_Score_Proxy'],0)).show()"
   ]
  },
  {
   "cell_type": "code",
   "execution_count": 69,
   "metadata": {},
   "outputs": [
    {
     "name": "stdout",
     "output_type": "stream",
     "text": [
      "+-----------------+--------------------+\n",
      "|Nutri_Score_Proxy|        Product_name|\n",
      "+-----------------+--------------------+\n",
      "|              -15|My authentic Gree...|\n",
      "|              -15|Filets Cabillaud ...|\n",
      "|              -15|       Fage total 0%|\n",
      "|              -15|           Crevettes|\n",
      "|              -15|  Black tiger scampi|\n",
      "|              -15|  Filet de cabillaud|\n",
      "|              -15|Cottage Cheese light|\n",
      "|              -15|Brochettes de cre...|\n",
      "|              -15|   Carpaccio de bœuf|\n",
      "|              -15|Steak maitre d'hotel|\n",
      "+-----------------+--------------------+\n",
      "only showing top 10 rows\n",
      "\n"
     ]
    }
   ],
   "source": [
    "#Lets find the 10 healthiest products according to our index\n",
    "NS_Filtered.join(originalDF,NS_Filtered.code==originalDF.code,how='left')\\\n",
    ".select('Nutri_Score_Proxy','Product_name').orderBy('Nutri_Score_Proxy').show(10)"
   ]
  }
 ],
 "metadata": {
  "kernelspec": {
   "display_name": "Python 3",
   "language": "python",
   "name": "python3"
  },
  "language_info": {
   "codemirror_mode": {
    "name": "ipython",
    "version": 3
   },
   "file_extension": ".py",
   "mimetype": "text/x-python",
   "name": "python",
   "nbconvert_exporter": "python",
   "pygments_lexer": "ipython3",
   "version": "3.7.3"
  }
 },
 "nbformat": 4,
 "nbformat_minor": 4
}
