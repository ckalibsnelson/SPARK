{
 "cells": [
  {
   "cell_type": "markdown",
   "metadata": {},
   "source": [
    "# US Accidents (3.5 Million Records)"
   ]
  },
  {
   "cell_type": "markdown",
   "metadata": {},
   "source": [
    "# Import Dataset"
   ]
  },
  {
   "cell_type": "code",
   "execution_count": 1,
   "metadata": {},
   "outputs": [
    {
     "data": {
      "text/plain": [
       "[Row(ID='A-1', Source='MapQuest', TMC=201.0, Severity=3, Start_Time='2016-02-08 05:46:00', End_Time='2016-02-08 11:00:00', Start_Lat=39.865147, Start_Lng=-84.058723, End_Lat=None, End_Lng=None, Distance(mi)=0.01, Description='Right lane blocked due to accident on I-70 Eastbound at Exit 41 OH-235 State Route 4.', Number=None, Street='I-70 E', Side='R', City='Dayton', County='Montgomery', State='OH', Zipcode='45424', Country='US', Timezone='US/Eastern', Airport_Code='KFFO', Weather_Timestamp='2016-02-08 05:58:00', Temperature(F)=36.9, Wind_Chill(F)=None, Humidity(%)=91.0, Pressure(in)=29.68, Visibility(mi)=10.0, Wind_Direction='Calm', Wind_Speed(mph)=None, Precipitation(in)=0.02, Weather_Condition='Light Rain', Amenity=False, Bump=False, Crossing=False, Give_Way=False, Junction=False, No_Exit=False, Railway=False, Roundabout=False, Station=False, Stop=False, Traffic_Calming=False, Traffic_Signal=False, Turning_Loop=False, Sunrise_Sunset='Night', Civil_Twilight='Night', Nautical_Twilight='Night', Astronomical_Twilight='Night')]"
      ]
     },
     "execution_count": 1,
     "metadata": {},
     "output_type": "execute_result"
    }
   ],
   "source": [
    "import findspark \n",
    "findspark.init()\n",
    "\n",
    "from pyspark.context import SparkContext\n",
    "from pyspark.sql.session import SparkSession\n",
    "\n",
    "sc = SparkContext.getOrCreate()\n",
    "spark = SparkSession(sc)\n",
    "\n",
    "us_accidents = spark.read \\\n",
    " .option(\"inferSchema\", \"true\") \\\n",
    " .option(\"MultiLine\", \"true\") \\\n",
    " .option(\"header\", \"true\") \\\n",
    " .csv(\"US_Accidents_June20.csv\")\n",
    "us_accidents.take(1)"
   ]
  },
  {
   "cell_type": "markdown",
   "metadata": {},
   "source": [
    "# Exploratory Data Analysis"
   ]
  },
  {
   "cell_type": "code",
   "execution_count": 2,
   "metadata": {},
   "outputs": [
    {
     "data": {
      "text/plain": [
       "3513617"
      ]
     },
     "execution_count": 2,
     "metadata": {},
     "output_type": "execute_result"
    }
   ],
   "source": [
    "#Count number of accidents\n",
    "us_accidents.count()"
   ]
  },
  {
   "cell_type": "markdown",
   "metadata": {},
   "source": [
    "Here, we can confirm that there were roughly 3.5 million accidents that occured in the US."
   ]
  },
  {
   "cell_type": "code",
   "execution_count": 3,
   "metadata": {
    "scrolled": false
   },
   "outputs": [
    {
     "name": "stdout",
     "output_type": "stream",
     "text": [
      "+---+--------+-----+--------+-------------------+-------------------+---------+----------+-------+-------+------------+--------------------+------+------+----+------+----------+-----+-------+-------+----------+------------+-------------------+--------------+-------------+-----------+------------+--------------+--------------+---------------+-----------------+-----------------+-------+-----+--------+--------+--------+-------+-------+----------+-------+-----+---------------+--------------+------------+--------------+--------------+-----------------+---------------------+\n",
      "| ID|  Source|  TMC|Severity|         Start_Time|           End_Time|Start_Lat| Start_Lng|End_Lat|End_Lng|Distance(mi)|         Description|Number|Street|Side|  City|    County|State|Zipcode|Country|  Timezone|Airport_Code|  Weather_Timestamp|Temperature(F)|Wind_Chill(F)|Humidity(%)|Pressure(in)|Visibility(mi)|Wind_Direction|Wind_Speed(mph)|Precipitation(in)|Weather_Condition|Amenity| Bump|Crossing|Give_Way|Junction|No_Exit|Railway|Roundabout|Station| Stop|Traffic_Calming|Traffic_Signal|Turning_Loop|Sunrise_Sunset|Civil_Twilight|Nautical_Twilight|Astronomical_Twilight|\n",
      "+---+--------+-----+--------+-------------------+-------------------+---------+----------+-------+-------+------------+--------------------+------+------+----+------+----------+-----+-------+-------+----------+------------+-------------------+--------------+-------------+-----------+------------+--------------+--------------+---------------+-----------------+-----------------+-------+-----+--------+--------+--------+-------+-------+----------+-------+-----+---------------+--------------+------------+--------------+--------------+-----------------+---------------------+\n",
      "|A-1|MapQuest|201.0|       3|2016-02-08 05:46:00|2016-02-08 11:00:00|39.865147|-84.058723|   null|   null|        0.01|Right lane blocke...|  null|I-70 E|   R|Dayton|Montgomery|   OH|  45424|     US|US/Eastern|        KFFO|2016-02-08 05:58:00|          36.9|         null|       91.0|       29.68|          10.0|          Calm|           null|             0.02|       Light Rain|  false|false|   false|   false|   false|  false|  false|     false|  false|false|          false|         false|       false|         Night|         Night|            Night|                Night|\n",
      "+---+--------+-----+--------+-------------------+-------------------+---------+----------+-------+-------+------------+--------------------+------+------+----+------+----------+-----+-------+-------+----------+------------+-------------------+--------------+-------------+-----------+------------+--------------+--------------+---------------+-----------------+-----------------+-------+-----+--------+--------+--------+-------+-------+----------+-------+-----+---------------+--------------+------------+--------------+--------------+-----------------+---------------------+\n",
      "only showing top 1 row\n",
      "\n"
     ]
    }
   ],
   "source": [
    "#Preliminary View of Dataset\n",
    "us_accidents.show(1)\n",
    "#Or: us_accidents.first()"
   ]
  },
  {
   "cell_type": "markdown",
   "metadata": {},
   "source": [
    "## What can we learn about the first record (A-1) from this dataset?"
   ]
  },
  {
   "cell_type": "markdown",
   "metadata": {},
   "source": [
    "Per the dataframe, the first accident occured on the 8th of February in 2016 and was a low-to-medium severe accident caused by a lane being blocked on an interestate in Dayton, Ohio. "
   ]
  },
  {
   "cell_type": "code",
   "execution_count": 4,
   "metadata": {},
   "outputs": [
    {
     "data": {
      "text/plain": [
       "['ID',\n",
       " 'Source',\n",
       " 'TMC',\n",
       " 'Severity',\n",
       " 'Start_Time',\n",
       " 'End_Time',\n",
       " 'Start_Lat',\n",
       " 'Start_Lng',\n",
       " 'End_Lat',\n",
       " 'End_Lng',\n",
       " 'Distance(mi)',\n",
       " 'Description',\n",
       " 'Number',\n",
       " 'Street',\n",
       " 'Side',\n",
       " 'City',\n",
       " 'County',\n",
       " 'State',\n",
       " 'Zipcode',\n",
       " 'Country',\n",
       " 'Timezone',\n",
       " 'Airport_Code',\n",
       " 'Weather_Timestamp',\n",
       " 'Temperature(F)',\n",
       " 'Wind_Chill(F)',\n",
       " 'Humidity(%)',\n",
       " 'Pressure(in)',\n",
       " 'Visibility(mi)',\n",
       " 'Wind_Direction',\n",
       " 'Wind_Speed(mph)',\n",
       " 'Precipitation(in)',\n",
       " 'Weather_Condition',\n",
       " 'Amenity',\n",
       " 'Bump',\n",
       " 'Crossing',\n",
       " 'Give_Way',\n",
       " 'Junction',\n",
       " 'No_Exit',\n",
       " 'Railway',\n",
       " 'Roundabout',\n",
       " 'Station',\n",
       " 'Stop',\n",
       " 'Traffic_Calming',\n",
       " 'Traffic_Signal',\n",
       " 'Turning_Loop',\n",
       " 'Sunrise_Sunset',\n",
       " 'Civil_Twilight',\n",
       " 'Nautical_Twilight',\n",
       " 'Astronomical_Twilight']"
      ]
     },
     "execution_count": 4,
     "metadata": {},
     "output_type": "execute_result"
    }
   ],
   "source": [
    "#List the columns of the dataframe\n",
    "us_accidents.columns"
   ]
  },
  {
   "cell_type": "markdown",
   "metadata": {},
   "source": [
    "## Display schema and size of the DataFrame "
   ]
  },
  {
   "cell_type": "code",
   "execution_count": 5,
   "metadata": {},
   "outputs": [
    {
     "name": "stdout",
     "output_type": "stream",
     "text": [
      "root\n",
      " |-- ID: string (nullable = true)\n",
      " |-- Source: string (nullable = true)\n",
      " |-- TMC: double (nullable = true)\n",
      " |-- Severity: integer (nullable = true)\n",
      " |-- Start_Time: string (nullable = true)\n",
      " |-- End_Time: string (nullable = true)\n",
      " |-- Start_Lat: double (nullable = true)\n",
      " |-- Start_Lng: double (nullable = true)\n",
      " |-- End_Lat: double (nullable = true)\n",
      " |-- End_Lng: double (nullable = true)\n",
      " |-- Distance(mi): double (nullable = true)\n",
      " |-- Description: string (nullable = true)\n",
      " |-- Number: double (nullable = true)\n",
      " |-- Street: string (nullable = true)\n",
      " |-- Side: string (nullable = true)\n",
      " |-- City: string (nullable = true)\n",
      " |-- County: string (nullable = true)\n",
      " |-- State: string (nullable = true)\n",
      " |-- Zipcode: string (nullable = true)\n",
      " |-- Country: string (nullable = true)\n",
      " |-- Timezone: string (nullable = true)\n",
      " |-- Airport_Code: string (nullable = true)\n",
      " |-- Weather_Timestamp: string (nullable = true)\n",
      " |-- Temperature(F): double (nullable = true)\n",
      " |-- Wind_Chill(F): double (nullable = true)\n",
      " |-- Humidity(%): double (nullable = true)\n",
      " |-- Pressure(in): double (nullable = true)\n",
      " |-- Visibility(mi): double (nullable = true)\n",
      " |-- Wind_Direction: string (nullable = true)\n",
      " |-- Wind_Speed(mph): double (nullable = true)\n",
      " |-- Precipitation(in): double (nullable = true)\n",
      " |-- Weather_Condition: string (nullable = true)\n",
      " |-- Amenity: boolean (nullable = true)\n",
      " |-- Bump: boolean (nullable = true)\n",
      " |-- Crossing: boolean (nullable = true)\n",
      " |-- Give_Way: boolean (nullable = true)\n",
      " |-- Junction: boolean (nullable = true)\n",
      " |-- No_Exit: boolean (nullable = true)\n",
      " |-- Railway: boolean (nullable = true)\n",
      " |-- Roundabout: boolean (nullable = true)\n",
      " |-- Station: boolean (nullable = true)\n",
      " |-- Stop: boolean (nullable = true)\n",
      " |-- Traffic_Calming: boolean (nullable = true)\n",
      " |-- Traffic_Signal: boolean (nullable = true)\n",
      " |-- Turning_Loop: boolean (nullable = true)\n",
      " |-- Sunrise_Sunset: string (nullable = true)\n",
      " |-- Civil_Twilight: string (nullable = true)\n",
      " |-- Nautical_Twilight: string (nullable = true)\n",
      " |-- Astronomical_Twilight: string (nullable = true)\n",
      "\n"
     ]
    },
    {
     "data": {
      "text/markdown": [
       "This DataFrame has **3513617 rows**."
      ],
      "text/plain": [
       "<IPython.core.display.Markdown object>"
      ]
     },
     "metadata": {},
     "output_type": "display_data"
    }
   ],
   "source": [
    "from IPython.display import display, Markdown\n",
    "\n",
    "us_accidents.printSchema()\n",
    "display(Markdown(\"This DataFrame has **%d rows**.\" % us_accidents.count()))"
   ]
  },
  {
   "cell_type": "markdown",
   "metadata": {},
   "source": [
    "Per our learning materials, the typical data types in Spark are Boolenas, Numbers, Strings, Date and Timestamps, Handling nulls, and Arrays. The most common data types in this dataset include strings and booleans."
   ]
  },
  {
   "cell_type": "code",
   "execution_count": 6,
   "metadata": {},
   "outputs": [
    {
     "name": "stdout",
     "output_type": "stream",
     "text": [
      "Summary of a few numerical columns:\n",
      "+-------+------------------+------------------+------------------+------------------+------------------+------------------+-----------------+\n",
      "|summary|          Severity|      Distance(mi)|    Temperature(F)|     Wind_Chill(F)|       Humidity(%)|      Pressure(in)|   Visibility(mi)|\n",
      "+-------+------------------+------------------+------------------+------------------+------------------+------------------+-----------------+\n",
      "|  count|           3513617|           3513617|           3447885|           1645368|           3443930|           3457735|          3437761|\n",
      "|   mean|2.3399286262560772|0.2816166867384315| 61.93511900773892| 53.55729532847424| 65.11427003452451|29.744628810482546| 9.12264429086247|\n",
      "| stddev|0.5521934519055788|1.5501343247484876|18.621056594747945|23.773336781939438|22.755581256697198|0.8319758234849445|2.885879326590114|\n",
      "|    min|                 1|               0.0|             -89.0|             -89.0|               1.0|               0.0|              0.0|\n",
      "|    25%|                 2|               0.0|              50.0|              35.7|              48.0|             29.73|             10.0|\n",
      "|    50%|                 2|               0.0|              64.0|              57.0|              67.0|             29.95|             10.0|\n",
      "|    75%|                 3|              0.01|              75.9|              72.0|              84.0|             30.09|             10.0|\n",
      "|    max|                 4|     333.630004883|             170.6|             115.0|             100.0|             57.74|            140.0|\n",
      "+-------+------------------+------------------+------------------+------------------+------------------+------------------+-----------------+\n",
      "\n",
      "Checking for nulls on numerical columns:\n",
      "+--------+------------+--------------+-------------+-----------+------------+--------------+\n",
      "|Severity|Distance(mi)|Temperature(F)|Wind_Chill(F)|Humidity(%)|Pressure(in)|Visibility(mi)|\n",
      "+--------+------------+--------------+-------------+-----------+------------+--------------+\n",
      "|       0|           0|         65732|      1868249|      69687|       55882|         75856|\n",
      "+--------+------------+--------------+-------------+-----------+------------+--------------+\n",
      "\n",
      "Checking amount of distinct values on numerical columns:\n",
      "+--------+------------+--------------+-------------+-----------+------------+--------------+\n",
      "|Severity|Distance(mi)|Temperature(F)|Wind_Chill(F)|Humidity(%)|Pressure(in)|Visibility(mi)|\n",
      "+--------+------------+--------------+-------------+-----------+------------+--------------+\n",
      "|       4|       13476|           831|          974|        100|        1022|            85|\n",
      "+--------+------------+--------------+-------------+-----------+------------+--------------+\n",
      "\n",
      "Most and least frequent occurrences for 'Start_Time' and'End_Time':\n",
      "Summary of columns'Start_Time'and 'End_Time':\n",
      "+-------+-------------------+-------------------+\n",
      "|summary|         Start_Time|           End_Time|\n",
      "+-------+-------------------+-------------------+\n",
      "|  count|            3513617|            3513617|\n",
      "|   mean|               null|               null|\n",
      "| stddev|               null|               null|\n",
      "|    min|2016-02-08 00:37:08|2016-02-08 06:37:08|\n",
      "|    25%|               null|               null|\n",
      "|    50%|               null|               null|\n",
      "|    75%|               null|               null|\n",
      "|    max|2020-06-30 23:18:09|2020-06-30 23:47:46|\n",
      "+-------+-------------------+-------------------+\n",
      "\n",
      "Checking for nulls on columns 'Start_Time' and 'End_Time':\n",
      "+----------+--------+\n",
      "|Start_Time|End_Time|\n",
      "+----------+--------+\n",
      "|         0|       0|\n",
      "+----------+--------+\n",
      "\n",
      "Checking amount of distinct values in columns 'Start_Time' and 'End_Time':\n",
      "+----------+--------+\n",
      "|Start_Time|End_Time|\n",
      "+----------+--------+\n",
      "|   3200042| 3246120|\n",
      "+----------+--------+\n",
      "\n"
     ]
    }
   ],
   "source": [
    "from IPython.display import display, Markdown\n",
    "from pyspark.sql.functions import when, count, col, countDistinct, desc, first, lit\n",
    "\n",
    "\n",
    "print (\"Summary of a few numerical columns:\")\n",
    "us_accidents.select('Severity','Distance(mi)','Temperature(F)','Wind_Chill(F)','Humidity(%)','Pressure(in)','Visibility(mi)').summary().show()\n",
    "\n",
    "print(\"Checking for nulls on numerical columns:\")\n",
    "us_accidents.select([count(when(col(c).isNull(), c)).alias(c) for c in ['Severity','Distance(mi)','Temperature(F)','Wind_Chill(F)','Humidity(%)','Pressure(in)','Visibility(mi)']]).show()\n",
    "\n",
    "print(\"Checking amount of distinct values on numerical columns:\")\n",
    "us_accidents.select([countDistinct(c).alias(c) for c in ['Severity','Distance(mi)','Temperature(F)','Wind_Chill(F)','Humidity(%)','Pressure(in)','Visibility(mi)']]).show()\n",
    "\n",
    "print (\"Most and least frequent occurrences for 'Start_Time' and'End_Time':\")\n",
    "severity = us_accidents.groupBy('Severity').agg(count(lit(1)).alias(\"Total\"))\n",
    "\n",
    "print (\"Summary of columns'Start_Time'and 'End_Time':\")\n",
    "us_accidents.select('Start_Time','End_Time').summary().show()\n",
    "\n",
    "print(\"Checking for nulls on columns 'Start_Time' and 'End_Time':\")\n",
    "us_accidents.select([count(when(col(c).isNull(), c)).alias(c) for c in ['Start_Time','End_Time']]).show()\n",
    "\n",
    "print(\"Checking amount of distinct values in columns 'Start_Time' and 'End_Time':\")\n",
    "us_accidents.select([countDistinct(c).alias(c) for c in ['Start_Time','End_Time']]).show()"
   ]
  },
  {
   "cell_type": "code",
   "execution_count": 7,
   "metadata": {},
   "outputs": [
    {
     "name": "stdout",
     "output_type": "stream",
     "text": [
      "Checking amount of distinct values in ID, Source, Severity, and State:\n",
      "+-------+------+--------+-----+\n",
      "|     ID|Source|Severity|State|\n",
      "+-------+------+--------+-----+\n",
      "|3513617|     3|       4|   49|\n",
      "+-------+------+--------+-----+\n",
      "\n"
     ]
    }
   ],
   "source": [
    "from pyspark.sql.functions import countDistinct\n",
    "print(\"Checking amount of distinct values in ID, Source, Severity, and State:\")\n",
    "us_accidents.select([countDistinct(c).alias(c) for c in ['ID','Source','Severity','State']]).show()"
   ]
  },
  {
   "cell_type": "markdown",
   "metadata": {},
   "source": [
    "Given the previous line of code, we can confirm that the 3.5 million US accidents came from a few sources, have four severity levels, and occured all but one state."
   ]
  },
  {
   "cell_type": "markdown",
   "metadata": {},
   "source": [
    "# Goal of Analysis"
   ]
  },
  {
   "cell_type": "markdown",
   "metadata": {},
   "source": [
    "The goal of my analysis is to answer ten business questions about all US accidents between February 2016 and June 2020. Read below for the questions and their respective answers!"
   ]
  },
  {
   "cell_type": "markdown",
   "metadata": {},
   "source": [
    "# Deep Dive Analysis "
   ]
  },
  {
   "cell_type": "markdown",
   "metadata": {},
   "source": [
    "## 1) In which states do most accidents occur? "
   ]
  },
  {
   "cell_type": "code",
   "execution_count": 8,
   "metadata": {},
   "outputs": [
    {
     "name": "stdout",
     "output_type": "stream",
     "text": [
      "States with the most accidents:\n",
      "+-----+---------+\n",
      "|State|Accidents|\n",
      "+-----+---------+\n",
      "|   CA|   816825|\n",
      "|   TX|   329284|\n",
      "|   FL|   258002|\n",
      "|   SC|   173277|\n",
      "|   NC|   165958|\n",
      "|   NY|   160817|\n",
      "|   PA|   106787|\n",
      "|   IL|    99692|\n",
      "|   VA|    96075|\n",
      "|   MI|    95983|\n",
      "+-----+---------+\n",
      "only showing top 10 rows\n",
      "\n"
     ]
    }
   ],
   "source": [
    "from pyspark.sql.functions import min, max, avg, countDistinct, col\n",
    "\n",
    "print (\"States with the most accidents:\")\n",
    "\n",
    "location = us_accidents.groupBy('State').agg(countDistinct('ID').alias(\"Accidents\"))\n",
    "\n",
    "location.sort(col(\"Accidents\").desc()).show(10)"
   ]
  },
  {
   "cell_type": "markdown",
   "metadata": {},
   "source": [
    "It seems that accidents occur the most in California (CA), Texas (TX), and Florida (FL)."
   ]
  },
  {
   "cell_type": "markdown",
   "metadata": {},
   "source": [
    "## 2) Which one of the aforementioend states have the most severe accidents? "
   ]
  },
  {
   "cell_type": "code",
   "execution_count": 9,
   "metadata": {},
   "outputs": [
    {
     "name": "stdout",
     "output_type": "stream",
     "text": [
      "States with the most severe accidents:\n",
      "+-----+----+------+------+----+\n",
      "|State|   1|     2|     3|   4|\n",
      "+-----+----+------+------+----+\n",
      "|   AZ|6705| 55089| 13178|3612|\n",
      "|   SC| 116|137371| 34620|1170|\n",
      "|   LA|1262| 47099| 11925|1229|\n",
      "|   MN|  41| 53538| 27817| 467|\n",
      "|   NJ|  93| 39160| 16040|3766|\n",
      "|   DC|  43|  2991|  1099| 687|\n",
      "|   OR|1263| 77747|  8073|3039|\n",
      "|   VA|1739| 51639| 37187|5510|\n",
      "|   RI|  71|  5567|  6000| 115|\n",
      "|   KY|  40| 11920|  9745| 848|\n",
      "|   WY|null|   133|   178| 197|\n",
      "|   NH|   4|  6352|  1444| 184|\n",
      "|   MI|  57| 57060| 33542|5324|\n",
      "|   NV|   3|  6986|  3202| 452|\n",
      "|   WI|  33| 10077|  7302|2708|\n",
      "|   ID|null|  1594|   207| 243|\n",
      "|   CA|5801|576742|225820|8462|\n",
      "|   CT|  22| 12002| 11632|2245|\n",
      "|   NE|  38| 20009|  3637| 286|\n",
      "|   MT|null|   264|   141| 107|\n",
      "|   NC|1806|139050| 22047|3055|\n",
      "|   VT|   1|   486|   146|  69|\n",
      "|   MD| 305| 26051| 21359|5878|\n",
      "|   DE|  10|  4288|   629| 812|\n",
      "|   MO|  70| 13868| 18014|1691|\n",
      "|   IL| 265| 63401| 32652|3374|\n",
      "|   ME|   1|  2065|    75| 102|\n",
      "|   WA| 531| 41732| 23234|3047|\n",
      "|   ND|null|    21|    12|  11|\n",
      "|   MS|   5|  3639|  2636| 305|\n",
      "|   AL| 133| 30002| 13890| 600|\n",
      "|   IN|  60| 19925| 10960|2801|\n",
      "|   OH| 526| 41120| 18904|5589|\n",
      "|   TN|1453| 45942| 20808|1692|\n",
      "|   IA|   6|  5088|  5460| 921|\n",
      "|   NM|  48|  3020|  2093| 362|\n",
      "|   PA| 219| 78724| 22124|5720|\n",
      "|   SD|null|    17|     8|  36|\n",
      "|   NY| 727| 96064| 56889|7137|\n",
      "|   TX|1070|233840| 89667|4707|\n",
      "|   WV|   2|  1388|   504| 487|\n",
      "|   GA| 406| 38922| 46837|7449|\n",
      "|   MA| 183| 23452| 15019| 390|\n",
      "|   KS|   5|  3571|  3947| 416|\n",
      "|   CO| 519| 25516| 19888|3808|\n",
      "|   FL|3014|165506| 80563|8919|\n",
      "|   AR|  11|  1011|   488| 502|\n",
      "|   OK|  72| 53599|  5892| 440|\n",
      "|   UT| 395| 38562| 11379|1349|\n",
      "+-----+----+------+------+----+\n",
      "\n"
     ]
    }
   ],
   "source": [
    "print (\"States with the most severe accidents:\")\n",
    "\n",
    "location = us_accidents.groupBy('State').pivot('Severity').agg(countDistinct('ID'))\n",
    "\n",
    "location.show(49)"
   ]
  },
  {
   "cell_type": "markdown",
   "metadata": {},
   "source": [
    "Between CA, TX, and FL, it seems as if FL has the most severe accidents."
   ]
  },
  {
   "cell_type": "markdown",
   "metadata": {},
   "source": [
    "## 3) What are the top descriptions of the accidents? "
   ]
  },
  {
   "cell_type": "code",
   "execution_count": 10,
   "metadata": {},
   "outputs": [
    {
     "name": "stdout",
     "output_type": "stream",
     "text": [
      "Descriptions of accidents:\n",
      "+-----+--------------------+---------+\n",
      "|State|         Description|Accidents|\n",
      "+-----+--------------------+---------+\n",
      "|   CA|At I-405/San Dieg...|     1782|\n",
      "|   CA| At I-15 - Accident.|     1665|\n",
      "|   CA|  At I-5 - Accident.|     1495|\n",
      "|   CA|At I-605 - Accident.|     1492|\n",
      "|   CA|At Grand Ave - Ac...|     1037|\n",
      "|   CA|At US-101 - Accid...|      795|\n",
      "|   CA|At I-710/Long Bea...|      754|\n",
      "|   CA|At Central Ave - ...|      725|\n",
      "|   CA|At I-10/San Berna...|      723|\n",
      "|   CA|At CA-60/Pomona F...|      710|\n",
      "+-----+--------------------+---------+\n",
      "only showing top 10 rows\n",
      "\n"
     ]
    }
   ],
   "source": [
    "print (\"Descriptions of accidents:\")\n",
    "\n",
    "description = us_accidents.groupBy('State','Description').agg(countDistinct('ID').alias(\"Accidents\"))\n",
    "\n",
    "description.sort(col(\"Accidents\").desc()).show(10)"
   ]
  },
  {
   "cell_type": "markdown",
   "metadata": {},
   "source": [
    "It seems as if the descriptions of the accidents include information regarding congestion on interestates, which may align with the intutiion we have about the safety of interstates. Maybe public officials in this area should reconsider these dangerous areas!"
   ]
  },
  {
   "cell_type": "markdown",
   "metadata": {},
   "source": [
    "## 4) Under what conditions do most of these accidents occur?"
   ]
  },
  {
   "cell_type": "code",
   "execution_count": 11,
   "metadata": {},
   "outputs": [
    {
     "name": "stdout",
     "output_type": "stream",
     "text": [
      "Conditions of accidents:\n",
      "+--------------------+---------+\n",
      "|   Weather_Condition|Accidents|\n",
      "+--------------------+---------+\n",
      "|               Clear|   808202|\n",
      "|                Fair|   547721|\n",
      "|       Mostly Cloudy|   488094|\n",
      "|            Overcast|   382485|\n",
      "|       Partly Cloudy|   344815|\n",
      "|              Cloudy|   212878|\n",
      "|    Scattered Clouds|   204660|\n",
      "|          Light Rain|   176942|\n",
      "|                null|    76138|\n",
      "|          Light Snow|    50435|\n",
      "|                Rain|    42016|\n",
      "|                Haze|    38699|\n",
      "|                 Fog|    31066|\n",
      "|          Heavy Rain|    15351|\n",
      "|       Light Drizzle|    12427|\n",
      "|        Fair / Windy|     7954|\n",
      "|                Snow|     5798|\n",
      "|Light Thunderstor...|     4928|\n",
      "|        Thunderstorm|     4440|\n",
      "|Mostly Cloudy / W...|     4438|\n",
      "+--------------------+---------+\n",
      "only showing top 20 rows\n",
      "\n"
     ]
    }
   ],
   "source": [
    "print (\"Conditions of accidents:\")\n",
    "\n",
    "conditions = us_accidents.groupBy('Weather_Condition').agg(countDistinct('ID').alias(\"Accidents\"))\n",
    "\n",
    "conditions.sort(col(\"Accidents\").desc()).show()"
   ]
  },
  {
   "cell_type": "markdown",
   "metadata": {},
   "source": [
    "Contrary to intution, it seems that most accidents occur while the weather conditions are clear, fair, or mostly cloudy. This most likely has to do with the fact that climates differ depending on which state you live in. For example, it may tend to rain more in Florida than in California."
   ]
  },
  {
   "cell_type": "markdown",
   "metadata": {},
   "source": [
    "## 5) What is the landscape of accidents in the area in which I live?"
   ]
  },
  {
   "cell_type": "code",
   "execution_count": 12,
   "metadata": {},
   "outputs": [
    {
     "name": "stdout",
     "output_type": "stream",
     "text": [
      "An example of an accident in my Zipcode:\n",
      "+--------+--------+-----+--------+-------------------+-------------------+---------+----------+-------+-------+------------+--------------------+------+------+----+---------------+---------+-----+-------+-------+----------+------------+-------------------+--------------+-------------+-----------+------------+--------------+--------------+---------------+-----------------+-----------------+-------+-----+--------+--------+--------+-------+-------+----------+-------+-----+---------------+--------------+------------+--------------+--------------+-----------------+---------------------+\n",
      "|      ID|  Source|  TMC|Severity|         Start_Time|           End_Time|Start_Lat| Start_Lng|End_Lat|End_Lng|Distance(mi)|         Description|Number|Street|Side|           City|   County|State|Zipcode|Country|  Timezone|Airport_Code|  Weather_Timestamp|Temperature(F)|Wind_Chill(F)|Humidity(%)|Pressure(in)|Visibility(mi)|Wind_Direction|Wind_Speed(mph)|Precipitation(in)|Weather_Condition|Amenity| Bump|Crossing|Give_Way|Junction|No_Exit|Railway|Roundabout|Station| Stop|Traffic_Calming|Traffic_Signal|Turning_Loop|Sunrise_Sunset|Civil_Twilight|Nautical_Twilight|Astronomical_Twilight|\n",
      "+--------+--------+-----+--------+-------------------+-------------------+---------+----------+-------+-------+------------+--------------------+------+------+----+---------------+---------+-----+-------+-------+----------+------------+-------------------+--------------+-------------+-----------+------------+--------------+--------------+---------------+-----------------+-----------------+-------+-----+--------+--------+--------+-------+-------+----------+-------+-----+---------------+--------------+------------+--------------+--------------+-----------------+---------------------+\n",
      "|A-564043|MapQuest|241.0|       3|2020-06-08 22:56:11|2020-06-08 23:25:42|38.020878|-78.537254|   null|   null|         0.0|One lane blocked ...|  null|I-64 W|   R|Charlottesville|Albemarle|   VA|  22903|     US|US/Eastern|        KCHO|2020-06-08 22:53:00|          73.0|         73.0|       71.0|       29.33|          10.0|             N|            5.0|              0.0|    Mostly Cloudy|  false|false|   false|   false|    true|  false|  false|     false|  false|false|          false|         false|       false|         Night|         Night|            Night|                Night|\n",
      "+--------+--------+-----+--------+-------------------+-------------------+---------+----------+-------+-------+------------+--------------------+------+------+----+---------------+---------+-----+-------+-------+----------+------------+-------------------+--------------+-------------+-----------+------------+--------------+--------------+---------------+-----------------+-----------------+-------+-----+--------+--------+--------+-------+-------+----------+-------+-----+---------------+--------------+------------+--------------+--------------+-----------------+---------------------+\n",
      "only showing top 1 row\n",
      "\n",
      "Number of accidents in my Zipcode:\n",
      "+-------+---------+\n",
      "|Zipcode|Accidents|\n",
      "+-------+---------+\n",
      "|  22903|      291|\n",
      "+-------+---------+\n",
      "\n",
      "Severity of accidents in my Zipcode:\n",
      "+-------+---+---+---+\n",
      "|Zipcode|  2|  3|  4|\n",
      "+-------+---+---+---+\n",
      "|  22903|140|135| 16|\n",
      "+-------+---+---+---+\n",
      "\n"
     ]
    }
   ],
   "source": [
    "print (\"An example of an accident in my Zipcode:\")\n",
    "my_zipcode = us_accidents.filter(col(\"Zipcode\") == 22903)\n",
    "\n",
    "my_zipcode.show(1)\n",
    "\n",
    "print (\"Number of accidents in my Zipcode:\")\n",
    "my_location = my_zipcode.groupBy('Zipcode').agg(countDistinct('ID').alias(\"Accidents\"))\n",
    "\n",
    "my_location.sort(col(\"Accidents\").desc()).show()\n",
    "\n",
    "print (\"Severity of accidents in my Zipcode:\")\n",
    "my_location_severity = my_zipcode.groupBy('Zipcode').pivot('Severity').agg(countDistinct('ID'))\n",
    "\n",
    "my_location_severity.show()"
   ]
  },
  {
   "cell_type": "markdown",
   "metadata": {},
   "source": [
    "I have lived in Charlottesville, VA since August of 2015. Although I am not familiar with the first accident listed above, I am very familiar with the roads/interstates mentioned in the description. Fortunately, there haven't been severe accidents in the area nor have I been involved in them!"
   ]
  },
  {
   "cell_type": "markdown",
   "metadata": {},
   "source": [
    "## 6) What is the average wind speed for each of the serverity levels?"
   ]
  },
  {
   "cell_type": "code",
   "execution_count": 13,
   "metadata": {},
   "outputs": [
    {
     "name": "stdout",
     "output_type": "stream",
     "text": [
      "Average wind speed for each of the severity levels:\n",
      "+--------+--------------------+\n",
      "|Severity|avg(Wind_Speed(mph))|\n",
      "+--------+--------------------+\n",
      "|       1|   8.398047942805075|\n",
      "|       3|    8.54860331734758|\n",
      "|       4|   8.391610811941124|\n",
      "|       2|   8.072976681701455|\n",
      "+--------+--------------------+\n",
      "\n"
     ]
    }
   ],
   "source": [
    "print (\"Average wind speed for each of the severity levels:\")\n",
    "\n",
    "severity_wind = us_accidents.groupBy('Severity').agg(avg('Wind_Speed(mph)'))\n",
    "\n",
    "severity_wind.show()"
   ]
  },
  {
   "cell_type": "markdown",
   "metadata": {},
   "source": [
    "From the above analysis, it does seem as if wind and severity are positively correlated albeit marginally."
   ]
  },
  {
   "cell_type": "markdown",
   "metadata": {},
   "source": [
    "## 7) What is the average precipitation for each of the severity levels? "
   ]
  },
  {
   "cell_type": "code",
   "execution_count": 14,
   "metadata": {},
   "outputs": [
    {
     "name": "stdout",
     "output_type": "stream",
     "text": [
      "Average precipitation for each of the severity levels:\n",
      "+--------+----------------------+\n",
      "|Severity|avg(Precipitation(in))|\n",
      "+--------+----------------------+\n",
      "|       1|  0.005452252665367...|\n",
      "|       3|  0.023859750898532792|\n",
      "|       4|  0.012359928931492537|\n",
      "|       2|  0.013614858837609049|\n",
      "+--------+----------------------+\n",
      "\n"
     ]
    }
   ],
   "source": [
    "print (\"Average precipitation for each of the severity levels:\")\n",
    "\n",
    "severity_precipitation = us_accidents.groupBy('Severity').agg(avg('Precipitation(in)'))\n",
    "\n",
    "severity_precipitation.show()"
   ]
  },
  {
   "cell_type": "markdown",
   "metadata": {},
   "source": [
    "From the above analysis, it does seem as if rain and severity are positively correlated albeit marginally."
   ]
  },
  {
   "cell_type": "markdown",
   "metadata": {},
   "source": [
    "## 8) What is the average temperature for each of the severity levels? "
   ]
  },
  {
   "cell_type": "code",
   "execution_count": 15,
   "metadata": {},
   "outputs": [
    {
     "name": "stdout",
     "output_type": "stream",
     "text": [
      "Average precipitation for each of the severity levels:\n",
      "+--------+-------------------+\n",
      "|Severity|avg(Temperature(F))|\n",
      "+--------+-------------------+\n",
      "|       1|  70.74177685233386|\n",
      "|       3|   61.8595724249142|\n",
      "|       4|  59.02189844306066|\n",
      "|       2| 61.994931063611716|\n",
      "+--------+-------------------+\n",
      "\n"
     ]
    }
   ],
   "source": [
    "print (\"Average precipitation for each of the severity levels:\")\n",
    "\n",
    "severity_temp = us_accidents.groupBy('Severity').agg(avg('Temperature(F)'))\n",
    "\n",
    "severity_temp.show()"
   ]
  },
  {
   "cell_type": "markdown",
   "metadata": {},
   "source": [
    "From the above analysis, it does seem as if temp and severity are negatively correlated. The colder it is, the more likely there is to be an accident."
   ]
  },
  {
   "cell_type": "markdown",
   "metadata": {},
   "source": [
    "## 9)  How severe are accidents at crossings?"
   ]
  },
  {
   "cell_type": "code",
   "execution_count": 16,
   "metadata": {},
   "outputs": [
    {
     "name": "stdout",
     "output_type": "stream",
     "text": [
      "Accidents at Crossings:\n",
      "+--------+-----+-------+------+------+\n",
      "|Crossing|    1|      2|     3|     4|\n",
      "+--------+-----+-------+------+------+\n",
      "|    true| 8924| 240742| 19526|  5334|\n",
      "|   false|20250|2132468|979387|106986|\n",
      "+--------+-----+-------+------+------+\n",
      "\n"
     ]
    }
   ],
   "source": [
    "print (\"Accidents at Crossings:\")\n",
    "\n",
    "crossing = us_accidents.groupBy('Crossing').pivot('Severity').agg(countDistinct('ID'))\n",
    "\n",
    "crossing.show()"
   ]
  },
  {
   "cell_type": "markdown",
   "metadata": {},
   "source": [
    "It seems as if accidents at crossings are quite severe. Most accidents at crossings are either a 3 or 4 category."
   ]
  },
  {
   "cell_type": "markdown",
   "metadata": {},
   "source": [
    "## 10) How severe are accidents at railways? "
   ]
  },
  {
   "cell_type": "code",
   "execution_count": 17,
   "metadata": {},
   "outputs": [
    {
     "name": "stdout",
     "output_type": "stream",
     "text": [
      "Accidents at Railways:\n",
      "+-------+-----+-------+------+------+\n",
      "|Railway|    1|      2|     3|     4|\n",
      "+-------+-----+-------+------+------+\n",
      "|   true|  538|  24589|  5235|   813|\n",
      "|  false|28636|2348621|993678|111507|\n",
      "+-------+-----+-------+------+------+\n",
      "\n"
     ]
    }
   ],
   "source": [
    "print (\"Accidents at Railways:\")\n",
    "\n",
    "railway = us_accidents.groupBy('Railway').pivot('Severity').agg(countDistinct('ID'))\n",
    "\n",
    "railway.show()"
   ]
  },
  {
   "cell_type": "markdown",
   "metadata": {},
   "source": [
    "It seems as if accidents at railways are not as severe as they could be with most severe accidents at railways being a category 2. Relative to crossings, railways are a bit safer."
   ]
  }
 ],
 "metadata": {
  "kernelspec": {
   "display_name": "Python 3",
   "language": "python",
   "name": "python3"
  },
  "language_info": {
   "codemirror_mode": {
    "name": "ipython",
    "version": 3
   },
   "file_extension": ".py",
   "mimetype": "text/x-python",
   "name": "python",
   "nbconvert_exporter": "python",
   "pygments_lexer": "ipython3",
   "version": "3.7.3"
  }
 },
 "nbformat": 4,
 "nbformat_minor": 4
}
